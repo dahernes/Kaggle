{
 "metadata": {
  "kernelspec": {
   "language": "python",
   "display_name": "Python 3",
   "name": "python3"
  },
  "language_info": {
   "name": "python",
   "version": "3.7.12",
   "mimetype": "text/x-python",
   "codemirror_mode": {
    "name": "ipython",
    "version": 3
   },
   "pygments_lexer": "ipython3",
   "nbconvert_exporter": "python",
   "file_extension": ".py"
  }
 },
 "nbformat_minor": 4,
 "nbformat": 4,
 "cells": [
  {
   "cell_type": "markdown",
   "source": [
    "\n",
    "# Kaggle - Titanic Dataset Analysis & Forecast\n",
    "### y = 'survived'\n"
   ],
   "metadata": {
    "pycharm": {
     "name": "#%% md\n"
    }
   }
  },
  {
   "cell_type": "markdown",
   "source": [
    "created by Dominic Hernes, 06.08.2022"
   ],
   "metadata": {
    "pycharm": {
     "name": "#%% md\n"
    }
   }
  },
  {
   "cell_type": "code",
   "source": [
    "from pathlib import Path\n",
    "\n",
    "import numpy as np\n",
    "import pandas as pd\n",
    "\n",
    "import matplotlib.pyplot as plt\n",
    "import seaborn as sns\n",
    "\n",
    "from sklearn.preprocessing import OneHotEncoder, StandardScaler\n",
    "from sklearn.compose import make_column_transformer\n",
    "from sklearn.model_selection import train_test_split, GridSearchCV, KFold\n",
    "from sklearn.metrics import accuracy_score\n",
    "\n",
    "from catboost import CatBoostClassifier, Pool\n",
    "\n",
    "import warnings\n",
    "warnings.simplefilter(action='ignore', category=FutureWarning)\n",
    "warnings.simplefilter(action='ignore', category=UserWarning)\n",
    "\n",
    "import os\n",
    "for dirname, _, filenames in os.walk('/kaggle/input'):\n",
    "    for filename in filenames:\n",
    "        print(os.path.join(dirname, filename))\n",
    "\n",
    "# You can write up to 20GB to the current directory (/kaggle/working/) that gets preserved as output when you create a version using \"Save & Run All\" \n",
    "# You can also write temporary files to /kaggle/temp/, but they won't be saved outside of the current session"
   ],
   "metadata": {
    "_uuid": "8f2839f25d086af736a60e9eeb907d3b93b6e0e5",
    "_cell_guid": "b1076dfc-b9ad-4769-8c92-a6c4dae69d19",
    "execution": {
     "iopub.status.busy": "2022-08-10T20:10:22.353337Z",
     "iopub.execute_input": "2022-08-10T20:10:22.354709Z",
     "iopub.status.idle": "2022-08-10T20:10:22.375924Z",
     "shell.execute_reply.started": "2022-08-10T20:10:22.354646Z",
     "shell.execute_reply": "2022-08-10T20:10:22.373897Z"
    },
    "trusted": true,
    "pycharm": {
     "name": "#%%\n"
    }
   },
   "execution_count": 9,
   "outputs": []
  },
  {
   "cell_type": "code",
   "source": [
    "# flags, constants and globals\n",
    "# global variable\n",
    "base_folder = Path.cwd()\n",
    "data_folder = base_folder / \"data\"\n",
    "\n",
    "# flags\n",
    "VERBOSITY = True\n",
    "\n",
    "# constants\n",
    "RAND_SEED = 1337\n",
    "VALID_SIZE = 0.2\n"
   ],
   "metadata": {
    "execution": {
     "iopub.status.busy": "2022-08-10T20:10:22.616212Z",
     "iopub.execute_input": "2022-08-10T20:10:22.617205Z",
     "iopub.status.idle": "2022-08-10T20:10:22.625631Z",
     "shell.execute_reply.started": "2022-08-10T20:10:22.617131Z",
     "shell.execute_reply": "2022-08-10T20:10:22.623668Z"
    },
    "trusted": true,
    "pycharm": {
     "name": "#%%\n"
    }
   },
   "execution_count": 10,
   "outputs": []
  },
  {
   "cell_type": "code",
   "source": [
    "# functions\n",
    "def percentile_check(df: pd.DataFrame, key: str, percentile_high: float = 0.95, percentile_low: float = 0.05) -> None:\n",
    "    q_high = df[key].quantile(percentile_high)\n",
    "    q_low = df[key].quantile(percentile_low)\n",
    "    print(f\"Percentile check for the metric column '{key}':\")\n",
    "    print(\n",
    "        f\"{'Number above':<18} {q_high:>3n} ({percentile_high * 100:>6.2f}%-Quantil):{df[df[key] > q_high][key].describe()['count']:>10,}\")\n",
    "    print(\n",
    "        f\"{'Number below':<18} {q_low:>3n} ({percentile_low * 100:>6.2f}%-Quantil):{df[df[key] < q_low][key].describe()['count']:>10,}\")"
   ],
   "metadata": {
    "execution": {
     "iopub.status.busy": "2022-08-10T20:10:22.864329Z",
     "iopub.execute_input": "2022-08-10T20:10:22.867464Z",
     "iopub.status.idle": "2022-08-10T20:10:22.876389Z",
     "shell.execute_reply.started": "2022-08-10T20:10:22.867415Z",
     "shell.execute_reply": "2022-08-10T20:10:22.874995Z"
    },
    "trusted": true,
    "pycharm": {
     "name": "#%%\n"
    }
   },
   "execution_count": 11,
   "outputs": []
  },
  {
   "cell_type": "code",
   "source": [
    "# load data\n",
    "base_folder = Path.cwd()\n",
    "data_folder = base_folder / \"data\"\n",
    "titan_df = pd.read_csv(data_folder / 'train.csv')\n"
   ],
   "metadata": {
    "execution": {
     "iopub.status.busy": "2022-08-10T20:10:23.088456Z",
     "iopub.execute_input": "2022-08-10T20:10:23.089496Z",
     "iopub.status.idle": "2022-08-10T20:10:23.110012Z",
     "shell.execute_reply.started": "2022-08-10T20:10:23.089450Z",
     "shell.execute_reply": "2022-08-10T20:10:23.108448Z"
    },
    "trusted": true,
    "pycharm": {
     "name": "#%%\n"
    }
   },
   "execution_count": 12,
   "outputs": []
  },
  {
   "cell_type": "markdown",
   "source": [
    "\n",
    "## Part 1: Data cleaning / preparation / exploration\n",
    "### Quick Overview"
   ],
   "metadata": {
    "pycharm": {
     "name": "#%% md\n"
    }
   }
  },
  {
   "cell_type": "code",
   "source": [
    "# Train df head\n",
    "titan_df.head()"
   ],
   "metadata": {
    "execution": {
     "iopub.status.busy": "2022-08-10T20:10:23.358984Z",
     "iopub.execute_input": "2022-08-10T20:10:23.359488Z",
     "iopub.status.idle": "2022-08-10T20:10:23.383808Z",
     "shell.execute_reply.started": "2022-08-10T20:10:23.359438Z",
     "shell.execute_reply": "2022-08-10T20:10:23.382263Z"
    },
    "trusted": true,
    "pycharm": {
     "name": "#%%\n"
    }
   },
   "execution_count": 13,
   "outputs": [
    {
     "data": {
      "text/plain": "   PassengerId  Survived  Pclass  \\\n0            1         0       3   \n1            2         1       1   \n2            3         1       3   \n3            4         1       1   \n4            5         0       3   \n\n                                                Name     Sex   Age  SibSp  \\\n0                            Braund, Mr. Owen Harris    male  22.0      1   \n1  Cumings, Mrs. John Bradley (Florence Briggs Th...  female  38.0      1   \n2                             Heikkinen, Miss. Laina  female  26.0      0   \n3       Futrelle, Mrs. Jacques Heath (Lily May Peel)  female  35.0      1   \n4                           Allen, Mr. William Henry    male  35.0      0   \n\n   Parch            Ticket     Fare Cabin Embarked  \n0      0         A/5 21171   7.2500   NaN        S  \n1      0          PC 17599  71.2833   C85        C  \n2      0  STON/O2. 3101282   7.9250   NaN        S  \n3      0            113803  53.1000  C123        S  \n4      0            373450   8.0500   NaN        S  ",
      "text/html": "<div>\n<style scoped>\n    .dataframe tbody tr th:only-of-type {\n        vertical-align: middle;\n    }\n\n    .dataframe tbody tr th {\n        vertical-align: top;\n    }\n\n    .dataframe thead th {\n        text-align: right;\n    }\n</style>\n<table border=\"1\" class=\"dataframe\">\n  <thead>\n    <tr style=\"text-align: right;\">\n      <th></th>\n      <th>PassengerId</th>\n      <th>Survived</th>\n      <th>Pclass</th>\n      <th>Name</th>\n      <th>Sex</th>\n      <th>Age</th>\n      <th>SibSp</th>\n      <th>Parch</th>\n      <th>Ticket</th>\n      <th>Fare</th>\n      <th>Cabin</th>\n      <th>Embarked</th>\n    </tr>\n  </thead>\n  <tbody>\n    <tr>\n      <th>0</th>\n      <td>1</td>\n      <td>0</td>\n      <td>3</td>\n      <td>Braund, Mr. Owen Harris</td>\n      <td>male</td>\n      <td>22.0</td>\n      <td>1</td>\n      <td>0</td>\n      <td>A/5 21171</td>\n      <td>7.2500</td>\n      <td>NaN</td>\n      <td>S</td>\n    </tr>\n    <tr>\n      <th>1</th>\n      <td>2</td>\n      <td>1</td>\n      <td>1</td>\n      <td>Cumings, Mrs. John Bradley (Florence Briggs Th...</td>\n      <td>female</td>\n      <td>38.0</td>\n      <td>1</td>\n      <td>0</td>\n      <td>PC 17599</td>\n      <td>71.2833</td>\n      <td>C85</td>\n      <td>C</td>\n    </tr>\n    <tr>\n      <th>2</th>\n      <td>3</td>\n      <td>1</td>\n      <td>3</td>\n      <td>Heikkinen, Miss. Laina</td>\n      <td>female</td>\n      <td>26.0</td>\n      <td>0</td>\n      <td>0</td>\n      <td>STON/O2. 3101282</td>\n      <td>7.9250</td>\n      <td>NaN</td>\n      <td>S</td>\n    </tr>\n    <tr>\n      <th>3</th>\n      <td>4</td>\n      <td>1</td>\n      <td>1</td>\n      <td>Futrelle, Mrs. Jacques Heath (Lily May Peel)</td>\n      <td>female</td>\n      <td>35.0</td>\n      <td>1</td>\n      <td>0</td>\n      <td>113803</td>\n      <td>53.1000</td>\n      <td>C123</td>\n      <td>S</td>\n    </tr>\n    <tr>\n      <th>4</th>\n      <td>5</td>\n      <td>0</td>\n      <td>3</td>\n      <td>Allen, Mr. William Henry</td>\n      <td>male</td>\n      <td>35.0</td>\n      <td>0</td>\n      <td>0</td>\n      <td>373450</td>\n      <td>8.0500</td>\n      <td>NaN</td>\n      <td>S</td>\n    </tr>\n  </tbody>\n</table>\n</div>"
     },
     "execution_count": 13,
     "metadata": {},
     "output_type": "execute_result"
    }
   ]
  },
  {
   "cell_type": "markdown",
   "source": [
    "**Information about the data**<br><br>\n",
    "PassengerID - Passenger's identification<br>\n",
    "Survived - Status survived/missing,dead<br> \n",
    "Pclass - Ticket/Passenger class<br>\n",
    "Name - Name of passenger<br>\n",
    "Sex - Gender of passenger<br>\n",
    "Age - Age of passenger<br>\n",
    "SibSp - Number of siblings or spouse<br>\n",
    "Parch - Number of parents or child<br>\n",
    "Ticket - Ticket number<br>\n",
    "Fare - Ticket price<br> \n",
    "Cabin - Cabin number<br> \n",
    "Embarked - homeport (C=Cherbourg, Q=Queenstown, S=Southampton)"
   ],
   "metadata": {
    "pycharm": {
     "name": "#%% md\n"
    }
   }
  },
  {
   "cell_type": "code",
   "source": [
    "# df info\n",
    "titan_df.info()"
   ],
   "metadata": {
    "execution": {
     "iopub.status.busy": "2022-08-10T20:10:23.622888Z",
     "iopub.execute_input": "2022-08-10T20:10:23.624331Z",
     "iopub.status.idle": "2022-08-10T20:10:23.645157Z",
     "shell.execute_reply.started": "2022-08-10T20:10:23.624278Z",
     "shell.execute_reply": "2022-08-10T20:10:23.643734Z"
    },
    "trusted": true,
    "pycharm": {
     "name": "#%%\n"
    }
   },
   "execution_count": 14,
   "outputs": [
    {
     "name": "stdout",
     "output_type": "stream",
     "text": [
      "<class 'pandas.core.frame.DataFrame'>\n",
      "RangeIndex: 891 entries, 0 to 890\n",
      "Data columns (total 12 columns):\n",
      " #   Column       Non-Null Count  Dtype  \n",
      "---  ------       --------------  -----  \n",
      " 0   PassengerId  891 non-null    int64  \n",
      " 1   Survived     891 non-null    int64  \n",
      " 2   Pclass       891 non-null    int64  \n",
      " 3   Name         891 non-null    object \n",
      " 4   Sex          891 non-null    object \n",
      " 5   Age          714 non-null    float64\n",
      " 6   SibSp        891 non-null    int64  \n",
      " 7   Parch        891 non-null    int64  \n",
      " 8   Ticket       891 non-null    object \n",
      " 9   Fare         891 non-null    float64\n",
      " 10  Cabin        204 non-null    object \n",
      " 11  Embarked     889 non-null    object \n",
      "dtypes: float64(2), int64(5), object(5)\n",
      "memory usage: 83.7+ KB\n"
     ]
    }
   ]
  },
  {
   "cell_type": "code",
   "source": [
    "# df describe\n",
    "titan_df.describe()"
   ],
   "metadata": {
    "execution": {
     "iopub.status.busy": "2022-08-10T20:10:23.840131Z",
     "iopub.execute_input": "2022-08-10T20:10:23.840697Z",
     "iopub.status.idle": "2022-08-10T20:10:23.891301Z",
     "shell.execute_reply.started": "2022-08-10T20:10:23.840651Z",
     "shell.execute_reply": "2022-08-10T20:10:23.890027Z"
    },
    "trusted": true,
    "pycharm": {
     "name": "#%%\n"
    }
   },
   "execution_count": 15,
   "outputs": [
    {
     "data": {
      "text/plain": "       PassengerId    Survived      Pclass         Age       SibSp  \\\ncount   891.000000  891.000000  891.000000  714.000000  891.000000   \nmean    446.000000    0.383838    2.308642   29.699118    0.523008   \nstd     257.353842    0.486592    0.836071   14.526497    1.102743   \nmin       1.000000    0.000000    1.000000    0.420000    0.000000   \n25%     223.500000    0.000000    2.000000   20.125000    0.000000   \n50%     446.000000    0.000000    3.000000   28.000000    0.000000   \n75%     668.500000    1.000000    3.000000   38.000000    1.000000   \nmax     891.000000    1.000000    3.000000   80.000000    8.000000   \n\n            Parch        Fare  \ncount  891.000000  891.000000  \nmean     0.381594   32.204208  \nstd      0.806057   49.693429  \nmin      0.000000    0.000000  \n25%      0.000000    7.910400  \n50%      0.000000   14.454200  \n75%      0.000000   31.000000  \nmax      6.000000  512.329200  ",
      "text/html": "<div>\n<style scoped>\n    .dataframe tbody tr th:only-of-type {\n        vertical-align: middle;\n    }\n\n    .dataframe tbody tr th {\n        vertical-align: top;\n    }\n\n    .dataframe thead th {\n        text-align: right;\n    }\n</style>\n<table border=\"1\" class=\"dataframe\">\n  <thead>\n    <tr style=\"text-align: right;\">\n      <th></th>\n      <th>PassengerId</th>\n      <th>Survived</th>\n      <th>Pclass</th>\n      <th>Age</th>\n      <th>SibSp</th>\n      <th>Parch</th>\n      <th>Fare</th>\n    </tr>\n  </thead>\n  <tbody>\n    <tr>\n      <th>count</th>\n      <td>891.000000</td>\n      <td>891.000000</td>\n      <td>891.000000</td>\n      <td>714.000000</td>\n      <td>891.000000</td>\n      <td>891.000000</td>\n      <td>891.000000</td>\n    </tr>\n    <tr>\n      <th>mean</th>\n      <td>446.000000</td>\n      <td>0.383838</td>\n      <td>2.308642</td>\n      <td>29.699118</td>\n      <td>0.523008</td>\n      <td>0.381594</td>\n      <td>32.204208</td>\n    </tr>\n    <tr>\n      <th>std</th>\n      <td>257.353842</td>\n      <td>0.486592</td>\n      <td>0.836071</td>\n      <td>14.526497</td>\n      <td>1.102743</td>\n      <td>0.806057</td>\n      <td>49.693429</td>\n    </tr>\n    <tr>\n      <th>min</th>\n      <td>1.000000</td>\n      <td>0.000000</td>\n      <td>1.000000</td>\n      <td>0.420000</td>\n      <td>0.000000</td>\n      <td>0.000000</td>\n      <td>0.000000</td>\n    </tr>\n    <tr>\n      <th>25%</th>\n      <td>223.500000</td>\n      <td>0.000000</td>\n      <td>2.000000</td>\n      <td>20.125000</td>\n      <td>0.000000</td>\n      <td>0.000000</td>\n      <td>7.910400</td>\n    </tr>\n    <tr>\n      <th>50%</th>\n      <td>446.000000</td>\n      <td>0.000000</td>\n      <td>3.000000</td>\n      <td>28.000000</td>\n      <td>0.000000</td>\n      <td>0.000000</td>\n      <td>14.454200</td>\n    </tr>\n    <tr>\n      <th>75%</th>\n      <td>668.500000</td>\n      <td>1.000000</td>\n      <td>3.000000</td>\n      <td>38.000000</td>\n      <td>1.000000</td>\n      <td>0.000000</td>\n      <td>31.000000</td>\n    </tr>\n    <tr>\n      <th>max</th>\n      <td>891.000000</td>\n      <td>1.000000</td>\n      <td>3.000000</td>\n      <td>80.000000</td>\n      <td>8.000000</td>\n      <td>6.000000</td>\n      <td>512.329200</td>\n    </tr>\n  </tbody>\n</table>\n</div>"
     },
     "execution_count": 15,
     "metadata": {},
     "output_type": "execute_result"
    }
   ]
  },
  {
   "cell_type": "code",
   "source": [
    "# df missing value heatmap\n",
    "sns.set(style=\"darkgrid\")\n",
    "plt.figure(figsize=(12, 8))\n",
    "sns.heatmap(titan_df.isna().transpose(),\n",
    "            cmap=sns.color_palette('muted'),\n",
    "            cbar_kws={'label': 'Overview Missing Data'})"
   ],
   "metadata": {
    "execution": {
     "iopub.status.busy": "2022-08-10T20:10:24.075334Z",
     "iopub.execute_input": "2022-08-10T20:10:24.075897Z",
     "iopub.status.idle": "2022-08-10T20:10:25.630262Z",
     "shell.execute_reply.started": "2022-08-10T20:10:24.075845Z",
     "shell.execute_reply": "2022-08-10T20:10:25.628896Z"
    },
    "trusted": true,
    "pycharm": {
     "name": "#%%\n"
    }
   },
   "execution_count": 16,
   "outputs": [
    {
     "data": {
      "text/plain": "<AxesSubplot:>"
     },
     "execution_count": 16,
     "metadata": {},
     "output_type": "execute_result"
    },
    {
     "data": {
      "text/plain": "<Figure size 864x576 with 2 Axes>",
      "image/png": "[encoded data removed]"
     },
     "metadata": {},
     "output_type": "display_data"
    }
   ]
  },
  {
   "cell_type": "markdown",
   "source": [
    "### Data Cleaning and Preparation"
   ],
   "metadata": {
    "pycharm": {
     "name": "#%% md\n"
    }
   }
  },
  {
   "cell_type": "markdown",
   "source": [
    "#### Data Cleaning - Numerical features\n",
    "PassengerId/Survived/Pclass are ok!\n",
    "Age/SibSp/Parch/Fare"
   ],
   "metadata": {
    "pycharm": {
     "name": "#%% md\n"
    }
   }
  },
  {
   "cell_type": "code",
   "source": [
    "# 'Fare' Feature\n",
    "# Distplot\n",
    "sns.distplot(titan_df['Fare'], kde=False, color='blue', bins=20)\n",
    "plt.title('Fare Dist Plot')\n",
    "plt.xlabel('Price')\n",
    "plt.ylabel('Total')\n",
    "plt.show()"
   ],
   "metadata": {
    "execution": {
     "iopub.status.busy": "2022-08-10T20:10:25.632028Z",
     "iopub.execute_input": "2022-08-10T20:10:25.632681Z",
     "iopub.status.idle": "2022-08-10T20:10:25.928972Z",
     "shell.execute_reply.started": "2022-08-10T20:10:25.632642Z",
     "shell.execute_reply": "2022-08-10T20:10:25.927553Z"
    },
    "trusted": true,
    "pycharm": {
     "name": "#%%\n"
    }
   },
   "execution_count": 17,
   "outputs": [
    {
     "data": {
      "text/plain": "<Figure size 432x288 with 1 Axes>",
      "image/png": "[encoded data removed]"
     },
     "metadata": {},
     "output_type": "display_data"
    }
   ]
  },
  {
   "cell_type": "code",
   "source": [
    "# Box Plot\n",
    "plt.figure(figsize=(4, 12))\n",
    "sns.boxplot(data=titan_df['Fare'], palette=\"muted\")\n",
    "plt.title('Fare Box Plot')\n",
    "plt.xlabel('Fare feature')\n",
    "plt.ylabel('Prize')\n",
    "plt.show()"
   ],
   "metadata": {
    "execution": {
     "iopub.status.busy": "2022-08-10T20:10:25.930456Z",
     "iopub.execute_input": "2022-08-10T20:10:25.930865Z",
     "iopub.status.idle": "2022-08-10T20:10:26.140973Z",
     "shell.execute_reply.started": "2022-08-10T20:10:25.930828Z",
     "shell.execute_reply": "2022-08-10T20:10:26.139646Z"
    },
    "trusted": true,
    "pycharm": {
     "name": "#%%\n"
    }
   },
   "execution_count": 18,
   "outputs": [
    {
     "data": {
      "text/plain": "<Figure size 288x864 with 1 Axes>",
      "image/png": "[encoded data removed]"
     },
     "metadata": {},
     "output_type": "display_data"
    }
   ]
  },
  {
   "cell_type": "code",
   "source": [
    "# percentile check\n",
    "percentile_check(titan_df, 'Fare', 0.99, 0.01)"
   ],
   "metadata": {
    "execution": {
     "iopub.status.busy": "2022-08-10T20:10:26.144340Z",
     "iopub.execute_input": "2022-08-10T20:10:26.144904Z",
     "iopub.status.idle": "2022-08-10T20:10:26.162524Z",
     "shell.execute_reply.started": "2022-08-10T20:10:26.144853Z",
     "shell.execute_reply": "2022-08-10T20:10:26.161145Z"
    },
    "trusted": true,
    "pycharm": {
     "name": "#%%\n"
    }
   },
   "execution_count": 19,
   "outputs": [
    {
     "name": "stdout",
     "output_type": "stream",
     "text": [
      "Percentile check for the metric column 'Fare':\n",
      "Number above       249.006 ( 99.00%-Quantil):       9.0\n",
      "Number below         0 (  1.00%-Quantil):       0.0\n"
     ]
    }
   ]
  },
  {
   "cell_type": "code",
   "source": [
    "# 'Fare' feature outlier\n",
    "titan_df[titan_df['Fare'] < 4]"
   ],
   "metadata": {
    "execution": {
     "iopub.status.busy": "2022-08-10T20:10:26.164271Z",
     "iopub.execute_input": "2022-08-10T20:10:26.165369Z",
     "iopub.status.idle": "2022-08-10T20:10:26.193103Z",
     "shell.execute_reply.started": "2022-08-10T20:10:26.165314Z",
     "shell.execute_reply": "2022-08-10T20:10:26.191638Z"
    },
    "trusted": true,
    "pycharm": {
     "name": "#%%\n"
    }
   },
   "execution_count": 20,
   "outputs": [
    {
     "data": {
      "text/plain": "     PassengerId  Survived  Pclass                              Name   Sex  \\\n179          180         0       3               Leonard, Mr. Lionel  male   \n263          264         0       1             Harrison, Mr. William  male   \n271          272         1       3      Tornquist, Mr. William Henry  male   \n277          278         0       2       Parkes, Mr. Francis \"Frank\"  male   \n302          303         0       3   Johnson, Mr. William Cahoone Jr  male   \n413          414         0       2    Cunningham, Mr. Alfred Fleming  male   \n466          467         0       2             Campbell, Mr. William  male   \n481          482         0       2  Frost, Mr. Anthony Wood \"Archie\"  male   \n597          598         0       3               Johnson, Mr. Alfred  male   \n633          634         0       1     Parr, Mr. William Henry Marsh  male   \n674          675         0       2        Watson, Mr. Ennis Hastings  male   \n732          733         0       2              Knight, Mr. Robert J  male   \n806          807         0       1            Andrews, Mr. Thomas Jr  male   \n815          816         0       1                  Fry, Mr. Richard  male   \n822          823         0       1   Reuchlin, Jonkheer. John George  male   \n\n      Age  SibSp  Parch  Ticket  Fare Cabin Embarked  \n179  36.0      0      0    LINE   0.0   NaN        S  \n263  40.0      0      0  112059   0.0   B94        S  \n271  25.0      0      0    LINE   0.0   NaN        S  \n277   NaN      0      0  239853   0.0   NaN        S  \n302  19.0      0      0    LINE   0.0   NaN        S  \n413   NaN      0      0  239853   0.0   NaN        S  \n466   NaN      0      0  239853   0.0   NaN        S  \n481   NaN      0      0  239854   0.0   NaN        S  \n597  49.0      0      0    LINE   0.0   NaN        S  \n633   NaN      0      0  112052   0.0   NaN        S  \n674   NaN      0      0  239856   0.0   NaN        S  \n732   NaN      0      0  239855   0.0   NaN        S  \n806  39.0      0      0  112050   0.0   A36        S  \n815   NaN      0      0  112058   0.0  B102        S  \n822  38.0      0      0   19972   0.0   NaN        S  ",
      "text/html": "<div>\n<style scoped>\n    .dataframe tbody tr th:only-of-type {\n        vertical-align: middle;\n    }\n\n    .dataframe tbody tr th {\n        vertical-align: top;\n    }\n\n    .dataframe thead th {\n        text-align: right;\n    }\n</style>\n<table border=\"1\" class=\"dataframe\">\n  <thead>\n    <tr style=\"text-align: right;\">\n      <th></th>\n      <th>PassengerId</th>\n      <th>Survived</th>\n      <th>Pclass</th>\n      <th>Name</th>\n      <th>Sex</th>\n      <th>Age</th>\n      <th>SibSp</th>\n      <th>Parch</th>\n      <th>Ticket</th>\n      <th>Fare</th>\n      <th>Cabin</th>\n      <th>Embarked</th>\n    </tr>\n  </thead>\n  <tbody>\n    <tr>\n      <th>179</th>\n      <td>180</td>\n      <td>0</td>\n      <td>3</td>\n      <td>Leonard, Mr. Lionel</td>\n      <td>male</td>\n      <td>36.0</td>\n      <td>0</td>\n      <td>0</td>\n      <td>LINE</td>\n      <td>0.0</td>\n      <td>NaN</td>\n      <td>S</td>\n    </tr>\n    <tr>\n      <th>263</th>\n      <td>264</td>\n      <td>0</td>\n      <td>1</td>\n      <td>Harrison, Mr. William</td>\n      <td>male</td>\n      <td>40.0</td>\n      <td>0</td>\n      <td>0</td>\n      <td>112059</td>\n      <td>0.0</td>\n      <td>B94</td>\n      <td>S</td>\n    </tr>\n    <tr>\n      <th>271</th>\n      <td>272</td>\n      <td>1</td>\n      <td>3</td>\n      <td>Tornquist, Mr. William Henry</td>\n      <td>male</td>\n      <td>25.0</td>\n      <td>0</td>\n      <td>0</td>\n      <td>LINE</td>\n      <td>0.0</td>\n      <td>NaN</td>\n      <td>S</td>\n    </tr>\n    <tr>\n      <th>277</th>\n      <td>278</td>\n      <td>0</td>\n      <td>2</td>\n      <td>Parkes, Mr. Francis \"Frank\"</td>\n      <td>male</td>\n      <td>NaN</td>\n      <td>0</td>\n      <td>0</td>\n      <td>239853</td>\n      <td>0.0</td>\n      <td>NaN</td>\n      <td>S</td>\n    </tr>\n    <tr>\n      <th>302</th>\n      <td>303</td>\n      <td>0</td>\n      <td>3</td>\n      <td>Johnson, Mr. William Cahoone Jr</td>\n      <td>male</td>\n      <td>19.0</td>\n      <td>0</td>\n      <td>0</td>\n      <td>LINE</td>\n      <td>0.0</td>\n      <td>NaN</td>\n      <td>S</td>\n    </tr>\n    <tr>\n      <th>413</th>\n      <td>414</td>\n      <td>0</td>\n      <td>2</td>\n      <td>Cunningham, Mr. Alfred Fleming</td>\n      <td>male</td>\n      <td>NaN</td>\n      <td>0</td>\n      <td>0</td>\n      <td>239853</td>\n      <td>0.0</td>\n      <td>NaN</td>\n      <td>S</td>\n    </tr>\n    <tr>\n      <th>466</th>\n      <td>467</td>\n      <td>0</td>\n      <td>2</td>\n      <td>Campbell, Mr. William</td>\n      <td>male</td>\n      <td>NaN</td>\n      <td>0</td>\n      <td>0</td>\n      <td>239853</td>\n      <td>0.0</td>\n      <td>NaN</td>\n      <td>S</td>\n    </tr>\n    <tr>\n      <th>481</th>\n      <td>482</td>\n      <td>0</td>\n      <td>2</td>\n      <td>Frost, Mr. Anthony Wood \"Archie\"</td>\n      <td>male</td>\n      <td>NaN</td>\n      <td>0</td>\n      <td>0</td>\n      <td>239854</td>\n      <td>0.0</td>\n      <td>NaN</td>\n      <td>S</td>\n    </tr>\n    <tr>\n      <th>597</th>\n      <td>598</td>\n      <td>0</td>\n      <td>3</td>\n      <td>Johnson, Mr. Alfred</td>\n      <td>male</td>\n      <td>49.0</td>\n      <td>0</td>\n      <td>0</td>\n      <td>LINE</td>\n      <td>0.0</td>\n      <td>NaN</td>\n      <td>S</td>\n    </tr>\n    <tr>\n      <th>633</th>\n      <td>634</td>\n      <td>0</td>\n      <td>1</td>\n      <td>Parr, Mr. William Henry Marsh</td>\n      <td>male</td>\n      <td>NaN</td>\n      <td>0</td>\n      <td>0</td>\n      <td>112052</td>\n      <td>0.0</td>\n      <td>NaN</td>\n      <td>S</td>\n    </tr>\n    <tr>\n      <th>674</th>\n      <td>675</td>\n      <td>0</td>\n      <td>2</td>\n      <td>Watson, Mr. Ennis Hastings</td>\n      <td>male</td>\n      <td>NaN</td>\n      <td>0</td>\n      <td>0</td>\n      <td>239856</td>\n      <td>0.0</td>\n      <td>NaN</td>\n      <td>S</td>\n    </tr>\n    <tr>\n      <th>732</th>\n      <td>733</td>\n      <td>0</td>\n      <td>2</td>\n      <td>Knight, Mr. Robert J</td>\n      <td>male</td>\n      <td>NaN</td>\n      <td>0</td>\n      <td>0</td>\n      <td>239855</td>\n      <td>0.0</td>\n      <td>NaN</td>\n      <td>S</td>\n    </tr>\n    <tr>\n      <th>806</th>\n      <td>807</td>\n      <td>0</td>\n      <td>1</td>\n      <td>Andrews, Mr. Thomas Jr</td>\n      <td>male</td>\n      <td>39.0</td>\n      <td>0</td>\n      <td>0</td>\n      <td>112050</td>\n      <td>0.0</td>\n      <td>A36</td>\n      <td>S</td>\n    </tr>\n    <tr>\n      <th>815</th>\n      <td>816</td>\n      <td>0</td>\n      <td>1</td>\n      <td>Fry, Mr. Richard</td>\n      <td>male</td>\n      <td>NaN</td>\n      <td>0</td>\n      <td>0</td>\n      <td>112058</td>\n      <td>0.0</td>\n      <td>B102</td>\n      <td>S</td>\n    </tr>\n    <tr>\n      <th>822</th>\n      <td>823</td>\n      <td>0</td>\n      <td>1</td>\n      <td>Reuchlin, Jonkheer. John George</td>\n      <td>male</td>\n      <td>38.0</td>\n      <td>0</td>\n      <td>0</td>\n      <td>19972</td>\n      <td>0.0</td>\n      <td>NaN</td>\n      <td>S</td>\n    </tr>\n  </tbody>\n</table>\n</div>"
     },
     "execution_count": 20,
     "metadata": {},
     "output_type": "execute_result"
    }
   ]
  },
  {
   "cell_type": "code",
   "source": [
    "# group by for imputation\n",
    "agg_fare = titan_df.groupby('Pclass')['Fare'].agg([np.size, np.mean, np.std, np.median, np.min, np.max])"
   ],
   "metadata": {
    "execution": {
     "iopub.status.busy": "2022-08-10T20:10:26.195247Z",
     "iopub.execute_input": "2022-08-10T20:10:26.195734Z",
     "iopub.status.idle": "2022-08-10T20:10:26.211359Z",
     "shell.execute_reply.started": "2022-08-10T20:10:26.195696Z",
     "shell.execute_reply": "2022-08-10T20:10:26.210209Z"
    },
    "trusted": true,
    "pycharm": {
     "name": "#%%\n"
    }
   },
   "execution_count": 21,
   "outputs": []
  },
  {
   "cell_type": "code",
   "source": [
    "# impute nulls\n",
    "pcl_idx = agg_fare.index.to_list()\n",
    "pcl_median = round(agg_fare['median'], 2).to_list()\n",
    "\n",
    "for i in pcl_idx:\n",
    "    aggmask = (titan_df['Fare'] == 0) & (titan_df['Pclass'] == i)\n",
    "    titan_df['Fare'] = titan_df['Fare'].mask(aggmask, pcl_median[i - 1])"
   ],
   "metadata": {
    "execution": {
     "iopub.status.busy": "2022-08-10T20:10:26.213233Z",
     "iopub.execute_input": "2022-08-10T20:10:26.214018Z",
     "iopub.status.idle": "2022-08-10T20:10:26.235777Z",
     "shell.execute_reply.started": "2022-08-10T20:10:26.213976Z",
     "shell.execute_reply": "2022-08-10T20:10:26.234677Z"
    },
    "trusted": true,
    "pycharm": {
     "name": "#%%\n"
    }
   },
   "execution_count": 22,
   "outputs": []
  },
  {
   "cell_type": "code",
   "source": [
    "# the upper outlier is true and should not be deleted"
   ],
   "metadata": {
    "execution": {
     "iopub.status.busy": "2022-08-10T20:10:26.237142Z",
     "iopub.execute_input": "2022-08-10T20:10:26.237970Z",
     "iopub.status.idle": "2022-08-10T20:10:26.243576Z",
     "shell.execute_reply.started": "2022-08-10T20:10:26.237927Z",
     "shell.execute_reply": "2022-08-10T20:10:26.242534Z"
    },
    "trusted": true,
    "pycharm": {
     "name": "#%%\n"
    }
   },
   "execution_count": 23,
   "outputs": []
  },
  {
   "cell_type": "code",
   "source": [
    "# 'Age' Feature\n",
    "titan_df['Age'].isna().value_counts()"
   ],
   "metadata": {
    "execution": {
     "iopub.status.busy": "2022-08-10T20:10:26.244941Z",
     "iopub.execute_input": "2022-08-10T20:10:26.245374Z",
     "iopub.status.idle": "2022-08-10T20:10:26.264071Z",
     "shell.execute_reply.started": "2022-08-10T20:10:26.245327Z",
     "shell.execute_reply": "2022-08-10T20:10:26.262621Z"
    },
    "trusted": true,
    "pycharm": {
     "name": "#%%\n"
    }
   },
   "execution_count": 24,
   "outputs": [
    {
     "data": {
      "text/plain": "False    714\nTrue     177\nName: Age, dtype: int64"
     },
     "execution_count": 24,
     "metadata": {},
     "output_type": "execute_result"
    }
   ]
  },
  {
   "cell_type": "code",
   "source": [
    "# 'Age' group by for imputation\n",
    "bins = [0, 5, 10, 15, 20, 25, 30, 35, 40, 45, 50, 70, 90, 100, 150, 200, 250, 300]\n",
    "agg_age = agg_fare = titan_df.groupby(['Pclass', pd.cut(titan_df['Fare'], bins)])['Age'].agg(\n",
    "                                      [np.size, np.mean, np.std, np.median, np.min, np.max])"
   ],
   "metadata": {
    "execution": {
     "iopub.status.busy": "2022-08-10T20:10:26.268019Z",
     "iopub.execute_input": "2022-08-10T20:10:26.269101Z",
     "iopub.status.idle": "2022-08-10T20:10:26.321394Z",
     "shell.execute_reply.started": "2022-08-10T20:10:26.269057Z",
     "shell.execute_reply": "2022-08-10T20:10:26.319973Z"
    },
    "trusted": true,
    "pycharm": {
     "name": "#%%\n"
    }
   },
   "execution_count": 25,
   "outputs": []
  },
  {
   "cell_type": "code",
   "source": [
    "# impute table\n",
    "agg_age"
   ],
   "metadata": {
    "execution": {
     "iopub.status.busy": "2022-08-10T20:10:26.323754Z",
     "iopub.execute_input": "2022-08-10T20:10:26.324169Z",
     "iopub.status.idle": "2022-08-10T20:10:26.364859Z",
     "shell.execute_reply.started": "2022-08-10T20:10:26.324134Z",
     "shell.execute_reply": "2022-08-10T20:10:26.363387Z"
    },
    "trusted": true,
    "pycharm": {
     "name": "#%%\n"
    }
   },
   "execution_count": 26,
   "outputs": [
    {
     "data": {
      "text/plain": "                    size       mean        std  median   amin  amax\nPclass Fare                                                        \n1      (0, 5]        1.0  33.000000        NaN    33.0  33.00  33.0\n       (5, 10]       NaN        NaN        NaN     NaN    NaN   NaN\n       (10, 15]      NaN        NaN        NaN     NaN    NaN   NaN\n       (15, 20]      NaN        NaN        NaN     NaN    NaN   NaN\n       (20, 25]      NaN        NaN        NaN     NaN    NaN   NaN\n       (25, 30]     41.0  44.954545  14.155588    45.0  19.00  80.0\n       (30, 35]     15.0  48.363636  14.424096    52.0  27.00  71.0\n       (35, 40]      8.0  40.000000  14.926487    46.0  16.00  56.0\n       (40, 45]      2.0  36.000000        NaN    36.0  36.00  36.0\n       (45, 50]      5.0  36.250000  23.300572    26.0  22.00  71.0\n       (50, 70]     44.0  36.736842  11.947372    37.0  16.00  65.0\n       (70, 90]     43.0  39.650000  14.784868    38.0   4.00  70.0\n       (90, 100]     4.0  31.500000  14.387495    27.5  19.00  52.0\n       (100, 150]   24.0  33.857143  14.255826    36.0  11.00  58.0\n       (150, 200]    9.0  29.102222  18.991420    31.0   0.92  58.0\n       (200, 250]   11.0  31.777778  12.060035    29.0  15.00  50.0\n       (250, 300]    6.0  28.166667  17.702166    22.0  18.00  64.0\n2      (0, 5]        NaN        NaN        NaN     NaN    NaN   NaN\n       (5, 10]       NaN        NaN        NaN     NaN    NaN   NaN\n       (10, 15]     95.0  32.827558  12.716327    30.0   0.67  70.0\n       (15, 20]      9.0  24.978750  19.265755    23.5   0.83  55.0\n       (20, 25]     12.0  29.750000  11.608187    30.0   4.00  54.0\n       (25, 30]     44.0  28.916591  14.147473    30.0   0.83  54.0\n       (30, 35]      6.0  22.900000  12.310565    28.0   6.00  34.0\n       (35, 40]      8.0  20.500000  21.520754    13.5   1.00  60.0\n       (40, 45]      3.0  16.666667  11.930353    22.0   3.00  25.0\n       (45, 50]      NaN        NaN        NaN     NaN    NaN   NaN\n       (50, 70]      2.0  36.000000  16.970563    36.0  24.00  48.0\n       (70, 90]      5.0  23.200000   5.357238    21.0  18.00  32.0\n       (90, 100]     NaN        NaN        NaN     NaN    NaN   NaN\n       (100, 150]    NaN        NaN        NaN     NaN    NaN   NaN\n       (150, 200]    NaN        NaN        NaN     NaN    NaN   NaN\n       (200, 250]    NaN        NaN        NaN     NaN    NaN   NaN\n       (250, 300]    NaN        NaN        NaN     NaN    NaN   NaN\n3      (0, 5]        1.0  20.000000        NaN    20.0  20.00  20.0\n       (5, 10]     323.0  28.029957  10.837375    25.0   0.42  74.0\n       (10, 15]     33.0  20.571429  13.535081    19.0   1.00  47.0\n       (15, 20]     48.0  21.484848  12.108387    24.0   0.75  44.0\n       (20, 25]     30.0  21.150000  13.491810    25.0   1.00  41.0\n       (25, 30]     15.0  15.454545  16.890019     8.0   2.00  45.0\n       (30, 35]     15.0  17.266667  15.741059     9.0   2.00  48.0\n       (35, 40]      6.0  13.500000  14.788509    10.5   1.00  41.0\n       (40, 45]      NaN        NaN        NaN     NaN    NaN   NaN\n       (45, 50]      6.0  15.666667  14.361987    12.5   1.00  43.0\n       (50, 70]     14.0  29.500000   3.000000    30.0  26.00  32.0\n       (70, 90]      NaN        NaN        NaN     NaN    NaN   NaN\n       (90, 100]     NaN        NaN        NaN     NaN    NaN   NaN\n       (100, 150]    NaN        NaN        NaN     NaN    NaN   NaN\n       (150, 200]    NaN        NaN        NaN     NaN    NaN   NaN\n       (200, 250]    NaN        NaN        NaN     NaN    NaN   NaN\n       (250, 300]    NaN        NaN        NaN     NaN    NaN   NaN",
      "text/html": "<div>\n<style scoped>\n    .dataframe tbody tr th:only-of-type {\n        vertical-align: middle;\n    }\n\n    .dataframe tbody tr th {\n        vertical-align: top;\n    }\n\n    .dataframe thead th {\n        text-align: right;\n    }\n</style>\n<table border=\"1\" class=\"dataframe\">\n  <thead>\n    <tr style=\"text-align: right;\">\n      <th></th>\n      <th></th>\n      <th>size</th>\n      <th>mean</th>\n      <th>std</th>\n      <th>median</th>\n      <th>amin</th>\n      <th>amax</th>\n    </tr>\n    <tr>\n      <th>Pclass</th>\n      <th>Fare</th>\n      <th></th>\n      <th></th>\n      <th></th>\n      <th></th>\n      <th></th>\n      <th></th>\n    </tr>\n  </thead>\n  <tbody>\n    <tr>\n      <th rowspan=\"17\" valign=\"top\">1</th>\n      <th>(0, 5]</th>\n      <td>1.0</td>\n      <td>33.000000</td>\n      <td>NaN</td>\n      <td>33.0</td>\n      <td>33.00</td>\n      <td>33.0</td>\n    </tr>\n    <tr>\n      <th>(5, 10]</th>\n      <td>NaN</td>\n      <td>NaN</td>\n      <td>NaN</td>\n      <td>NaN</td>\n      <td>NaN</td>\n      <td>NaN</td>\n    </tr>\n    <tr>\n      <th>(10, 15]</th>\n      <td>NaN</td>\n      <td>NaN</td>\n      <td>NaN</td>\n      <td>NaN</td>\n      <td>NaN</td>\n      <td>NaN</td>\n    </tr>\n    <tr>\n      <th>(15, 20]</th>\n      <td>NaN</td>\n      <td>NaN</td>\n      <td>NaN</td>\n      <td>NaN</td>\n      <td>NaN</td>\n      <td>NaN</td>\n    </tr>\n    <tr>\n      <th>(20, 25]</th>\n      <td>NaN</td>\n      <td>NaN</td>\n      <td>NaN</td>\n      <td>NaN</td>\n      <td>NaN</td>\n      <td>NaN</td>\n    </tr>\n    <tr>\n      <th>(25, 30]</th>\n      <td>41.0</td>\n      <td>44.954545</td>\n      <td>14.155588</td>\n      <td>45.0</td>\n      <td>19.00</td>\n      <td>80.0</td>\n    </tr>\n    <tr>\n      <th>(30, 35]</th>\n      <td>15.0</td>\n      <td>48.363636</td>\n      <td>14.424096</td>\n      <td>52.0</td>\n      <td>27.00</td>\n      <td>71.0</td>\n    </tr>\n    <tr>\n      <th>(35, 40]</th>\n      <td>8.0</td>\n      <td>40.000000</td>\n      <td>14.926487</td>\n      <td>46.0</td>\n      <td>16.00</td>\n      <td>56.0</td>\n    </tr>\n    <tr>\n      <th>(40, 45]</th>\n      <td>2.0</td>\n      <td>36.000000</td>\n      <td>NaN</td>\n      <td>36.0</td>\n      <td>36.00</td>\n      <td>36.0</td>\n    </tr>\n    <tr>\n      <th>(45, 50]</th>\n      <td>5.0</td>\n      <td>36.250000</td>\n      <td>23.300572</td>\n      <td>26.0</td>\n      <td>22.00</td>\n      <td>71.0</td>\n    </tr>\n    <tr>\n      <th>(50, 70]</th>\n      <td>44.0</td>\n      <td>36.736842</td>\n      <td>11.947372</td>\n      <td>37.0</td>\n      <td>16.00</td>\n      <td>65.0</td>\n    </tr>\n    <tr>\n      <th>(70, 90]</th>\n      <td>43.0</td>\n      <td>39.650000</td>\n      <td>14.784868</td>\n      <td>38.0</td>\n      <td>4.00</td>\n      <td>70.0</td>\n    </tr>\n    <tr>\n      <th>(90, 100]</th>\n      <td>4.0</td>\n      <td>31.500000</td>\n      <td>14.387495</td>\n      <td>27.5</td>\n      <td>19.00</td>\n      <td>52.0</td>\n    </tr>\n    <tr>\n      <th>(100, 150]</th>\n      <td>24.0</td>\n      <td>33.857143</td>\n      <td>14.255826</td>\n      <td>36.0</td>\n      <td>11.00</td>\n      <td>58.0</td>\n    </tr>\n    <tr>\n      <th>(150, 200]</th>\n      <td>9.0</td>\n      <td>29.102222</td>\n      <td>18.991420</td>\n      <td>31.0</td>\n      <td>0.92</td>\n      <td>58.0</td>\n    </tr>\n    <tr>\n      <th>(200, 250]</th>\n      <td>11.0</td>\n      <td>31.777778</td>\n      <td>12.060035</td>\n      <td>29.0</td>\n      <td>15.00</td>\n      <td>50.0</td>\n    </tr>\n    <tr>\n      <th>(250, 300]</th>\n      <td>6.0</td>\n      <td>28.166667</td>\n      <td>17.702166</td>\n      <td>22.0</td>\n      <td>18.00</td>\n      <td>64.0</td>\n    </tr>\n    <tr>\n      <th rowspan=\"17\" valign=\"top\">2</th>\n      <th>(0, 5]</th>\n      <td>NaN</td>\n      <td>NaN</td>\n      <td>NaN</td>\n      <td>NaN</td>\n      <td>NaN</td>\n      <td>NaN</td>\n    </tr>\n    <tr>\n      <th>(5, 10]</th>\n      <td>NaN</td>\n      <td>NaN</td>\n      <td>NaN</td>\n      <td>NaN</td>\n      <td>NaN</td>\n      <td>NaN</td>\n    </tr>\n    <tr>\n      <th>(10, 15]</th>\n      <td>95.0</td>\n      <td>32.827558</td>\n      <td>12.716327</td>\n      <td>30.0</td>\n      <td>0.67</td>\n      <td>70.0</td>\n    </tr>\n    <tr>\n      <th>(15, 20]</th>\n      <td>9.0</td>\n      <td>24.978750</td>\n      <td>19.265755</td>\n      <td>23.5</td>\n      <td>0.83</td>\n      <td>55.0</td>\n    </tr>\n    <tr>\n      <th>(20, 25]</th>\n      <td>12.0</td>\n      <td>29.750000</td>\n      <td>11.608187</td>\n      <td>30.0</td>\n      <td>4.00</td>\n      <td>54.0</td>\n    </tr>\n    <tr>\n      <th>(25, 30]</th>\n      <td>44.0</td>\n      <td>28.916591</td>\n      <td>14.147473</td>\n      <td>30.0</td>\n      <td>0.83</td>\n      <td>54.0</td>\n    </tr>\n    <tr>\n      <th>(30, 35]</th>\n      <td>6.0</td>\n      <td>22.900000</td>\n      <td>12.310565</td>\n      <td>28.0</td>\n      <td>6.00</td>\n      <td>34.0</td>\n    </tr>\n    <tr>\n      <th>(35, 40]</th>\n      <td>8.0</td>\n      <td>20.500000</td>\n      <td>21.520754</td>\n      <td>13.5</td>\n      <td>1.00</td>\n      <td>60.0</td>\n    </tr>\n    <tr>\n      <th>(40, 45]</th>\n      <td>3.0</td>\n      <td>16.666667</td>\n      <td>11.930353</td>\n      <td>22.0</td>\n      <td>3.00</td>\n      <td>25.0</td>\n    </tr>\n    <tr>\n      <th>(45, 50]</th>\n      <td>NaN</td>\n      <td>NaN</td>\n      <td>NaN</td>\n      <td>NaN</td>\n      <td>NaN</td>\n      <td>NaN</td>\n    </tr>\n    <tr>\n      <th>(50, 70]</th>\n      <td>2.0</td>\n      <td>36.000000</td>\n      <td>16.970563</td>\n      <td>36.0</td>\n      <td>24.00</td>\n      <td>48.0</td>\n    </tr>\n    <tr>\n      <th>(70, 90]</th>\n      <td>5.0</td>\n      <td>23.200000</td>\n      <td>5.357238</td>\n      <td>21.0</td>\n      <td>18.00</td>\n      <td>32.0</td>\n    </tr>\n    <tr>\n      <th>(90, 100]</th>\n      <td>NaN</td>\n      <td>NaN</td>\n      <td>NaN</td>\n      <td>NaN</td>\n      <td>NaN</td>\n      <td>NaN</td>\n    </tr>\n    <tr>\n      <th>(100, 150]</th>\n      <td>NaN</td>\n      <td>NaN</td>\n      <td>NaN</td>\n      <td>NaN</td>\n      <td>NaN</td>\n      <td>NaN</td>\n    </tr>\n    <tr>\n      <th>(150, 200]</th>\n      <td>NaN</td>\n      <td>NaN</td>\n      <td>NaN</td>\n      <td>NaN</td>\n      <td>NaN</td>\n      <td>NaN</td>\n    </tr>\n    <tr>\n      <th>(200, 250]</th>\n      <td>NaN</td>\n      <td>NaN</td>\n      <td>NaN</td>\n      <td>NaN</td>\n      <td>NaN</td>\n      <td>NaN</td>\n    </tr>\n    <tr>\n      <th>(250, 300]</th>\n      <td>NaN</td>\n      <td>NaN</td>\n      <td>NaN</td>\n      <td>NaN</td>\n      <td>NaN</td>\n      <td>NaN</td>\n    </tr>\n    <tr>\n      <th rowspan=\"17\" valign=\"top\">3</th>\n      <th>(0, 5]</th>\n      <td>1.0</td>\n      <td>20.000000</td>\n      <td>NaN</td>\n      <td>20.0</td>\n      <td>20.00</td>\n      <td>20.0</td>\n    </tr>\n    <tr>\n      <th>(5, 10]</th>\n      <td>323.0</td>\n      <td>28.029957</td>\n      <td>10.837375</td>\n      <td>25.0</td>\n      <td>0.42</td>\n      <td>74.0</td>\n    </tr>\n    <tr>\n      <th>(10, 15]</th>\n      <td>33.0</td>\n      <td>20.571429</td>\n      <td>13.535081</td>\n      <td>19.0</td>\n      <td>1.00</td>\n      <td>47.0</td>\n    </tr>\n    <tr>\n      <th>(15, 20]</th>\n      <td>48.0</td>\n      <td>21.484848</td>\n      <td>12.108387</td>\n      <td>24.0</td>\n      <td>0.75</td>\n      <td>44.0</td>\n    </tr>\n    <tr>\n      <th>(20, 25]</th>\n      <td>30.0</td>\n      <td>21.150000</td>\n      <td>13.491810</td>\n      <td>25.0</td>\n      <td>1.00</td>\n      <td>41.0</td>\n    </tr>\n    <tr>\n      <th>(25, 30]</th>\n      <td>15.0</td>\n      <td>15.454545</td>\n      <td>16.890019</td>\n      <td>8.0</td>\n      <td>2.00</td>\n      <td>45.0</td>\n    </tr>\n    <tr>\n      <th>(30, 35]</th>\n      <td>15.0</td>\n      <td>17.266667</td>\n      <td>15.741059</td>\n      <td>9.0</td>\n      <td>2.00</td>\n      <td>48.0</td>\n    </tr>\n    <tr>\n      <th>(35, 40]</th>\n      <td>6.0</td>\n      <td>13.500000</td>\n      <td>14.788509</td>\n      <td>10.5</td>\n      <td>1.00</td>\n      <td>41.0</td>\n    </tr>\n    <tr>\n      <th>(40, 45]</th>\n      <td>NaN</td>\n      <td>NaN</td>\n      <td>NaN</td>\n      <td>NaN</td>\n      <td>NaN</td>\n      <td>NaN</td>\n    </tr>\n    <tr>\n      <th>(45, 50]</th>\n      <td>6.0</td>\n      <td>15.666667</td>\n      <td>14.361987</td>\n      <td>12.5</td>\n      <td>1.00</td>\n      <td>43.0</td>\n    </tr>\n    <tr>\n      <th>(50, 70]</th>\n      <td>14.0</td>\n      <td>29.500000</td>\n      <td>3.000000</td>\n      <td>30.0</td>\n      <td>26.00</td>\n      <td>32.0</td>\n    </tr>\n    <tr>\n      <th>(70, 90]</th>\n      <td>NaN</td>\n      <td>NaN</td>\n      <td>NaN</td>\n      <td>NaN</td>\n      <td>NaN</td>\n      <td>NaN</td>\n    </tr>\n    <tr>\n      <th>(90, 100]</th>\n      <td>NaN</td>\n      <td>NaN</td>\n      <td>NaN</td>\n      <td>NaN</td>\n      <td>NaN</td>\n      <td>NaN</td>\n    </tr>\n    <tr>\n      <th>(100, 150]</th>\n      <td>NaN</td>\n      <td>NaN</td>\n      <td>NaN</td>\n      <td>NaN</td>\n      <td>NaN</td>\n      <td>NaN</td>\n    </tr>\n    <tr>\n      <th>(150, 200]</th>\n      <td>NaN</td>\n      <td>NaN</td>\n      <td>NaN</td>\n      <td>NaN</td>\n      <td>NaN</td>\n      <td>NaN</td>\n    </tr>\n    <tr>\n      <th>(200, 250]</th>\n      <td>NaN</td>\n      <td>NaN</td>\n      <td>NaN</td>\n      <td>NaN</td>\n      <td>NaN</td>\n      <td>NaN</td>\n    </tr>\n    <tr>\n      <th>(250, 300]</th>\n      <td>NaN</td>\n      <td>NaN</td>\n      <td>NaN</td>\n      <td>NaN</td>\n      <td>NaN</td>\n      <td>NaN</td>\n    </tr>\n  </tbody>\n</table>\n</div>"
     },
     "execution_count": 26,
     "metadata": {},
     "output_type": "execute_result"
    }
   ]
  },
  {
   "cell_type": "code",
   "source": [
    "# 'Age' imputation\n",
    "titan_df['Age'] = titan_df['Age'].fillna(0)"
   ],
   "metadata": {
    "execution": {
     "iopub.status.busy": "2022-08-10T20:10:26.488359Z",
     "iopub.execute_input": "2022-08-10T20:10:26.488837Z",
     "iopub.status.idle": "2022-08-10T20:10:26.495052Z",
     "shell.execute_reply.started": "2022-08-10T20:10:26.488801Z",
     "shell.execute_reply": "2022-08-10T20:10:26.493508Z"
    },
    "trusted": true,
    "pycharm": {
     "name": "#%%\n"
    }
   },
   "execution_count": 27,
   "outputs": []
  },
  {
   "cell_type": "code",
   "source": [
    "for i in range(len(titan_df['Age'])):\n",
    "    if titan_df.loc[i, 'Age'] == 0:\n",
    "        titan_df.loc[i, 'Age'] = agg_age.loc[titan_df.loc[i, 'Pclass'], titan_df.loc[i, 'Fare']]['median']"
   ],
   "metadata": {
    "execution": {
     "iopub.status.busy": "2022-08-10T20:10:26.692075Z",
     "iopub.execute_input": "2022-08-10T20:10:26.693564Z",
     "iopub.status.idle": "2022-08-10T20:10:26.909187Z",
     "shell.execute_reply.started": "2022-08-10T20:10:26.693489Z",
     "shell.execute_reply": "2022-08-10T20:10:26.907773Z"
    },
    "trusted": true,
    "pycharm": {
     "name": "#%%\n"
    }
   },
   "execution_count": 28,
   "outputs": []
  },
  {
   "cell_type": "code",
   "source": [
    "# null value check\n",
    "titan_df['Age'].isna().value_counts()"
   ],
   "metadata": {
    "execution": {
     "iopub.status.busy": "2022-08-10T20:10:26.911134Z",
     "iopub.execute_input": "2022-08-10T20:10:26.912092Z",
     "iopub.status.idle": "2022-08-10T20:10:26.922998Z",
     "shell.execute_reply.started": "2022-08-10T20:10:26.912052Z",
     "shell.execute_reply": "2022-08-10T20:10:26.921776Z"
    },
    "trusted": true,
    "pycharm": {
     "name": "#%%\n"
    }
   },
   "execution_count": 29,
   "outputs": [
    {
     "data": {
      "text/plain": "False    891\nName: Age, dtype: int64"
     },
     "execution_count": 29,
     "metadata": {},
     "output_type": "execute_result"
    }
   ]
  },
  {
   "cell_type": "code",
   "source": [
    "# 'Age' dist plot\n",
    "sns.distplot(titan_df['Age'], kde=False, color='blue', bins=40)\n",
    "plt.title('Age Dist Plot')\n",
    "plt.xlabel('Age')\n",
    "plt.ylabel('Total')\n",
    "plt.show()"
   ],
   "metadata": {
    "execution": {
     "iopub.status.busy": "2022-08-10T20:10:27.113381Z",
     "iopub.execute_input": "2022-08-10T20:10:27.114081Z",
     "iopub.status.idle": "2022-08-10T20:10:27.462473Z",
     "shell.execute_reply.started": "2022-08-10T20:10:27.114028Z",
     "shell.execute_reply": "2022-08-10T20:10:27.461306Z"
    },
    "trusted": true,
    "pycharm": {
     "name": "#%%\n"
    }
   },
   "execution_count": 30,
   "outputs": [
    {
     "data": {
      "text/plain": "<Figure size 432x288 with 1 Axes>",
      "image/png": "[encoded data removed]"
     },
     "metadata": {},
     "output_type": "display_data"
    }
   ]
  },
  {
   "cell_type": "code",
   "source": [
    "# 'SibSp' & 'Parch' Features\n",
    "#\n",
    "# 'SibSp*\n",
    "sns.distplot(titan_df['SibSp'], kde=False, color='blue', bins=10)\n",
    "plt.title('SibSp')\n",
    "plt.xlabel('Number of siblings or spouse')\n",
    "plt.ylabel('Total')\n",
    "plt.show()"
   ],
   "metadata": {
    "execution": {
     "iopub.status.busy": "2022-08-10T20:10:27.464285Z",
     "iopub.execute_input": "2022-08-10T20:10:27.465261Z",
     "iopub.status.idle": "2022-08-10T20:10:27.782399Z",
     "shell.execute_reply.started": "2022-08-10T20:10:27.465210Z",
     "shell.execute_reply": "2022-08-10T20:10:27.778944Z"
    },
    "trusted": true,
    "pycharm": {
     "name": "#%%\n"
    }
   },
   "execution_count": 31,
   "outputs": [
    {
     "data": {
      "text/plain": "<Figure size 432x288 with 1 Axes>",
      "image/png": "[encoded data removed]"
     },
     "metadata": {},
     "output_type": "display_data"
    }
   ]
  },
  {
   "cell_type": "code",
   "source": [
    "# percentile check\n",
    "percentile_check(titan_df, 'SibSp', 0.99, 0.01)"
   ],
   "metadata": {
    "execution": {
     "iopub.status.busy": "2022-08-10T20:10:27.785610Z",
     "iopub.execute_input": "2022-08-10T20:10:27.786447Z",
     "iopub.status.idle": "2022-08-10T20:10:27.820402Z",
     "shell.execute_reply.started": "2022-08-10T20:10:27.786382Z",
     "shell.execute_reply": "2022-08-10T20:10:27.816755Z"
    },
    "trusted": true,
    "pycharm": {
     "name": "#%%\n"
    }
   },
   "execution_count": 32,
   "outputs": [
    {
     "name": "stdout",
     "output_type": "stream",
     "text": [
      "Percentile check for the metric column 'SibSp':\n",
      "Number above         5 ( 99.00%-Quantil):       7.0\n",
      "Number below         0 (  1.00%-Quantil):       0.0\n"
     ]
    }
   ]
  },
  {
   "cell_type": "code",
   "source": [
    "# 'Parch'\n",
    "sns.distplot(titan_df['Parch'], kde=False, color='blue', bins=10)\n",
    "plt.title('Parch')\n",
    "plt.xlabel('Number of parents or child')\n",
    "plt.ylabel('Total')\n",
    "plt.show()"
   ],
   "metadata": {
    "execution": {
     "iopub.status.busy": "2022-08-10T20:10:27.822633Z",
     "iopub.execute_input": "2022-08-10T20:10:27.823068Z",
     "iopub.status.idle": "2022-08-10T20:10:28.202379Z",
     "shell.execute_reply.started": "2022-08-10T20:10:27.823031Z",
     "shell.execute_reply": "2022-08-10T20:10:28.196930Z"
    },
    "trusted": true,
    "pycharm": {
     "name": "#%%\n"
    }
   },
   "execution_count": 33,
   "outputs": [
    {
     "data": {
      "text/plain": "<Figure size 432x288 with 1 Axes>",
      "image/png": "[encoded data removed]"
     },
     "metadata": {},
     "output_type": "display_data"
    }
   ]
  },
  {
   "cell_type": "code",
   "source": [
    "# percentile check\n",
    "percentile_check(titan_df, 'Parch', 0.99, 0.01)"
   ],
   "metadata": {
    "execution": {
     "iopub.status.busy": "2022-08-10T20:10:28.211762Z",
     "iopub.execute_input": "2022-08-10T20:10:28.213867Z",
     "iopub.status.idle": "2022-08-10T20:10:28.255876Z",
     "shell.execute_reply.started": "2022-08-10T20:10:28.213803Z",
     "shell.execute_reply": "2022-08-10T20:10:28.252858Z"
    },
    "trusted": true,
    "pycharm": {
     "name": "#%%\n"
    }
   },
   "execution_count": 34,
   "outputs": [
    {
     "name": "stdout",
     "output_type": "stream",
     "text": [
      "Percentile check for the metric column 'Parch':\n",
      "Number above         4 ( 99.00%-Quantil):       6.0\n",
      "Number below         0 (  1.00%-Quantil):       0.0\n"
     ]
    }
   ]
  },
  {
   "cell_type": "code",
   "source": [
    "# creating a 'total_family' feature\n",
    "titan_df['total_family'] = titan_df['SibSp'] + titan_df['Parch']"
   ],
   "metadata": {
    "execution": {
     "iopub.status.busy": "2022-08-10T20:10:28.259822Z",
     "iopub.execute_input": "2022-08-10T20:10:28.260620Z",
     "iopub.status.idle": "2022-08-10T20:10:28.282630Z",
     "shell.execute_reply.started": "2022-08-10T20:10:28.260557Z",
     "shell.execute_reply": "2022-08-10T20:10:28.278182Z"
    },
    "trusted": true,
    "pycharm": {
     "name": "#%%\n"
    }
   },
   "execution_count": 35,
   "outputs": []
  },
  {
   "cell_type": "markdown",
   "source": [
    "#### Data Cleaning - Categorial/Object features"
   ],
   "metadata": {
    "pycharm": {
     "name": "#%% md\n"
    }
   }
  },
  {
   "cell_type": "code",
   "source": [
    "# 'Embarked' Feature\n",
    "titan_df[titan_df['Embarked'].isna()]"
   ],
   "metadata": {
    "execution": {
     "iopub.status.busy": "2022-08-10T20:10:28.409890Z",
     "iopub.execute_input": "2022-08-10T20:10:28.412398Z",
     "iopub.status.idle": "2022-08-10T20:10:28.487403Z",
     "shell.execute_reply.started": "2022-08-10T20:10:28.412215Z",
     "shell.execute_reply": "2022-08-10T20:10:28.483949Z"
    },
    "trusted": true,
    "pycharm": {
     "name": "#%%\n"
    }
   },
   "execution_count": 36,
   "outputs": [
    {
     "data": {
      "text/plain": "     PassengerId  Survived  Pclass                                       Name  \\\n61            62         1       1                        Icard, Miss. Amelie   \n829          830         1       1  Stone, Mrs. George Nelson (Martha Evelyn)   \n\n        Sex   Age  SibSp  Parch  Ticket  Fare Cabin Embarked  total_family  \n61   female  38.0      0      0  113572  80.0   B28      NaN             0  \n829  female  62.0      0      0  113572  80.0   B28      NaN             0  ",
      "text/html": "<div>\n<style scoped>\n    .dataframe tbody tr th:only-of-type {\n        vertical-align: middle;\n    }\n\n    .dataframe tbody tr th {\n        vertical-align: top;\n    }\n\n    .dataframe thead th {\n        text-align: right;\n    }\n</style>\n<table border=\"1\" class=\"dataframe\">\n  <thead>\n    <tr style=\"text-align: right;\">\n      <th></th>\n      <th>PassengerId</th>\n      <th>Survived</th>\n      <th>Pclass</th>\n      <th>Name</th>\n      <th>Sex</th>\n      <th>Age</th>\n      <th>SibSp</th>\n      <th>Parch</th>\n      <th>Ticket</th>\n      <th>Fare</th>\n      <th>Cabin</th>\n      <th>Embarked</th>\n      <th>total_family</th>\n    </tr>\n  </thead>\n  <tbody>\n    <tr>\n      <th>61</th>\n      <td>62</td>\n      <td>1</td>\n      <td>1</td>\n      <td>Icard, Miss. Amelie</td>\n      <td>female</td>\n      <td>38.0</td>\n      <td>0</td>\n      <td>0</td>\n      <td>113572</td>\n      <td>80.0</td>\n      <td>B28</td>\n      <td>NaN</td>\n      <td>0</td>\n    </tr>\n    <tr>\n      <th>829</th>\n      <td>830</td>\n      <td>1</td>\n      <td>1</td>\n      <td>Stone, Mrs. George Nelson (Martha Evelyn)</td>\n      <td>female</td>\n      <td>62.0</td>\n      <td>0</td>\n      <td>0</td>\n      <td>113572</td>\n      <td>80.0</td>\n      <td>B28</td>\n      <td>NaN</td>\n      <td>0</td>\n    </tr>\n  </tbody>\n</table>\n</div>"
     },
     "execution_count": 36,
     "metadata": {},
     "output_type": "execute_result"
    }
   ]
  },
  {
   "cell_type": "code",
   "source": [
    "# both passengers have the same ticket id=113572 and are the only ones with this id\n",
    "titan_df[titan_df['Ticket'] == '113572']"
   ],
   "metadata": {
    "execution": {
     "iopub.status.busy": "2022-08-10T20:10:28.625334Z",
     "iopub.execute_input": "2022-08-10T20:10:28.625983Z",
     "iopub.status.idle": "2022-08-10T20:10:28.671868Z",
     "shell.execute_reply.started": "2022-08-10T20:10:28.625923Z",
     "shell.execute_reply": "2022-08-10T20:10:28.669406Z"
    },
    "trusted": true,
    "pycharm": {
     "name": "#%%\n"
    }
   },
   "execution_count": 37,
   "outputs": [
    {
     "data": {
      "text/plain": "     PassengerId  Survived  Pclass                                       Name  \\\n61            62         1       1                        Icard, Miss. Amelie   \n829          830         1       1  Stone, Mrs. George Nelson (Martha Evelyn)   \n\n        Sex   Age  SibSp  Parch  Ticket  Fare Cabin Embarked  total_family  \n61   female  38.0      0      0  113572  80.0   B28      NaN             0  \n829  female  62.0      0      0  113572  80.0   B28      NaN             0  ",
      "text/html": "<div>\n<style scoped>\n    .dataframe tbody tr th:only-of-type {\n        vertical-align: middle;\n    }\n\n    .dataframe tbody tr th {\n        vertical-align: top;\n    }\n\n    .dataframe thead th {\n        text-align: right;\n    }\n</style>\n<table border=\"1\" class=\"dataframe\">\n  <thead>\n    <tr style=\"text-align: right;\">\n      <th></th>\n      <th>PassengerId</th>\n      <th>Survived</th>\n      <th>Pclass</th>\n      <th>Name</th>\n      <th>Sex</th>\n      <th>Age</th>\n      <th>SibSp</th>\n      <th>Parch</th>\n      <th>Ticket</th>\n      <th>Fare</th>\n      <th>Cabin</th>\n      <th>Embarked</th>\n      <th>total_family</th>\n    </tr>\n  </thead>\n  <tbody>\n    <tr>\n      <th>61</th>\n      <td>62</td>\n      <td>1</td>\n      <td>1</td>\n      <td>Icard, Miss. Amelie</td>\n      <td>female</td>\n      <td>38.0</td>\n      <td>0</td>\n      <td>0</td>\n      <td>113572</td>\n      <td>80.0</td>\n      <td>B28</td>\n      <td>NaN</td>\n      <td>0</td>\n    </tr>\n    <tr>\n      <th>829</th>\n      <td>830</td>\n      <td>1</td>\n      <td>1</td>\n      <td>Stone, Mrs. George Nelson (Martha Evelyn)</td>\n      <td>female</td>\n      <td>62.0</td>\n      <td>0</td>\n      <td>0</td>\n      <td>113572</td>\n      <td>80.0</td>\n      <td>B28</td>\n      <td>NaN</td>\n      <td>0</td>\n    </tr>\n  </tbody>\n</table>\n</div>"
     },
     "execution_count": 37,
     "metadata": {},
     "output_type": "execute_result"
    }
   ]
  },
  {
   "cell_type": "code",
   "source": [
    "# searching a match in 'name'\n",
    "# Icard, Miss., Amelie\n",
    "# Stone, Mrs. George Nelson (Martha Evelyn)\n",
    "# https://www.encyclopedia-titanica.org/titanic-survivor/amelia-icard.html\n",
    "# boared = Southampton\n",
    "titan_df['Embarked'] = titan_df['Embarked'].mask(titan_df['Ticket'] == '113572', 'S')"
   ],
   "metadata": {
    "execution": {
     "iopub.status.busy": "2022-08-10T20:10:28.842874Z",
     "iopub.execute_input": "2022-08-10T20:10:28.844948Z",
     "iopub.status.idle": "2022-08-10T20:10:28.864532Z",
     "shell.execute_reply.started": "2022-08-10T20:10:28.844820Z",
     "shell.execute_reply": "2022-08-10T20:10:28.859185Z"
    },
    "trusted": true,
    "pycharm": {
     "name": "#%%\n"
    }
   },
   "execution_count": 38,
   "outputs": []
  },
  {
   "cell_type": "code",
   "source": [
    "# Bar Plot 'Embarked'\n",
    "sns.set(style=\"darkgrid\")\n",
    "titan_df['Embarked'].value_counts().plot(kind='barh')"
   ],
   "metadata": {
    "execution": {
     "iopub.status.busy": "2022-08-10T20:10:29.064572Z",
     "iopub.execute_input": "2022-08-10T20:10:29.065625Z",
     "iopub.status.idle": "2022-08-10T20:10:29.743695Z",
     "shell.execute_reply.started": "2022-08-10T20:10:29.065545Z",
     "shell.execute_reply": "2022-08-10T20:10:29.736591Z"
    },
    "trusted": true,
    "pycharm": {
     "name": "#%%\n"
    }
   },
   "execution_count": 39,
   "outputs": [
    {
     "data": {
      "text/plain": "<AxesSubplot:>"
     },
     "execution_count": 39,
     "metadata": {},
     "output_type": "execute_result"
    },
    {
     "data": {
      "text/plain": "<Figure size 432x288 with 1 Axes>",
      "image/png": "[encoded data removed]"
     },
     "metadata": {},
     "output_type": "display_data"
    }
   ]
  },
  {
   "cell_type": "code",
   "source": [
    "# 'Sex' Feature\n",
    "titan_df['Sex'] = titan_df['Sex'].map({'male': 1, 'female': 0})"
   ],
   "metadata": {
    "execution": {
     "iopub.status.busy": "2022-08-10T20:10:29.757727Z",
     "iopub.execute_input": "2022-08-10T20:10:29.759487Z",
     "iopub.status.idle": "2022-08-10T20:10:29.785999Z",
     "shell.execute_reply.started": "2022-08-10T20:10:29.759344Z",
     "shell.execute_reply": "2022-08-10T20:10:29.781639Z"
    },
    "trusted": true,
    "pycharm": {
     "name": "#%%\n"
    }
   },
   "execution_count": 40,
   "outputs": []
  },
  {
   "cell_type": "code",
   "source": [
    "# Bar Plot 'Sex' - Male=1, Female=0\n",
    "sns.set(style=\"darkgrid\")\n",
    "titan_df['Sex'].value_counts().plot(kind='barh')"
   ],
   "metadata": {
    "execution": {
     "iopub.status.busy": "2022-08-10T20:10:29.797831Z",
     "iopub.execute_input": "2022-08-10T20:10:29.801815Z",
     "iopub.status.idle": "2022-08-10T20:10:30.180925Z",
     "shell.execute_reply.started": "2022-08-10T20:10:29.801624Z",
     "shell.execute_reply": "2022-08-10T20:10:30.179454Z"
    },
    "trusted": true,
    "pycharm": {
     "name": "#%%\n"
    }
   },
   "execution_count": 41,
   "outputs": [
    {
     "data": {
      "text/plain": "<AxesSubplot:>"
     },
     "execution_count": 41,
     "metadata": {},
     "output_type": "execute_result"
    },
    {
     "data": {
      "text/plain": "<Figure size 432x288 with 1 Axes>",
      "image/png": "[encoded data removed]"
     },
     "metadata": {},
     "output_type": "display_data"
    }
   ]
  },
  {
   "cell_type": "code",
   "source": [
    "# 'Ticket' Feature\n",
    "# https://www.encyclopedia-titanica.org/community/threads/ticket-numbering-system.20348/\n",
    "# I don't think we pull out much value in this feature\n",
    "# So a simple cleanup on the ticket number is sufficient so the agents are removed from this feature\n",
    "ticket_split = titan_df[\"Ticket\"].str.rsplit(\" \", n=1, expand=True)\n",
    "ticket_split.columns = 'T0 T1'.split()\n",
    "ticket_split = ticket_split.fillna(np.nan)\n",
    "ticket_split['T1'] = ticket_split['T1'].fillna(ticket_split['T0'])\n",
    "ticket_split['T1'] = ticket_split['T1'].str.replace('LINE', '0').str.strip()\n",
    "ticket_split['T1'] = ticket_split['T1'].astype(int)\n",
    "del ticket_split['T0']\n",
    "ticket_split.columns = ['Ticketnumber']"
   ],
   "metadata": {
    "execution": {
     "iopub.status.busy": "2022-08-10T20:10:30.183360Z",
     "iopub.execute_input": "2022-08-10T20:10:30.183874Z",
     "iopub.status.idle": "2022-08-10T20:10:30.202364Z",
     "shell.execute_reply.started": "2022-08-10T20:10:30.183837Z",
     "shell.execute_reply": "2022-08-10T20:10:30.200783Z"
    },
    "trusted": true,
    "pycharm": {
     "name": "#%%\n"
    }
   },
   "execution_count": 42,
   "outputs": []
  },
  {
   "cell_type": "code",
   "source": [
    "# concat ticketnummer\n",
    "titan_df = pd.concat([titan_df, ticket_split], axis=1)\n",
    "del titan_df['Ticket']"
   ],
   "metadata": {
    "execution": {
     "iopub.status.busy": "2022-08-10T20:10:30.204523Z",
     "iopub.execute_input": "2022-08-10T20:10:30.205914Z",
     "iopub.status.idle": "2022-08-10T20:10:30.214663Z",
     "shell.execute_reply.started": "2022-08-10T20:10:30.205872Z",
     "shell.execute_reply": "2022-08-10T20:10:30.213380Z"
    },
    "trusted": true,
    "pycharm": {
     "name": "#%%\n"
    }
   },
   "execution_count": 43,
   "outputs": []
  },
  {
   "cell_type": "code",
   "source": [
    "# 'Name' Feature\n",
    "# will be deleted, as it is no longer useful for the models\n",
    "# in the Date are better features to use, like sex and passengerID\n",
    "del titan_df['Name']"
   ],
   "metadata": {
    "execution": {
     "iopub.status.busy": "2022-08-10T20:10:30.216305Z",
     "iopub.execute_input": "2022-08-10T20:10:30.216976Z",
     "iopub.status.idle": "2022-08-10T20:10:30.229029Z",
     "shell.execute_reply.started": "2022-08-10T20:10:30.216937Z",
     "shell.execute_reply": "2022-08-10T20:10:30.227941Z"
    },
    "trusted": true,
    "pycharm": {
     "name": "#%%\n"
    }
   },
   "execution_count": 44,
   "outputs": []
  },
  {
   "cell_type": "code",
   "source": [
    "# 'Cabin' Feature\n",
    "# https://www.encyclopedia-titanica.org/titanic-deckplans/\n",
    "# The cabin values consist of the deck and the room number. Hypothesis: This characteristic \n",
    "# should have a high influence on the forecast, like the ticket class and also correlate.\n",
    "# We should split this feature in number/deck and check nan\n",
    "titan_df['Cabin'].isna().value_counts()"
   ],
   "metadata": {
    "execution": {
     "iopub.status.busy": "2022-08-10T20:10:30.394868Z",
     "iopub.execute_input": "2022-08-10T20:10:30.395609Z",
     "iopub.status.idle": "2022-08-10T20:10:30.408985Z",
     "shell.execute_reply.started": "2022-08-10T20:10:30.395553Z",
     "shell.execute_reply": "2022-08-10T20:10:30.407466Z"
    },
    "trusted": true,
    "pycharm": {
     "name": "#%%\n"
    }
   },
   "execution_count": 45,
   "outputs": [
    {
     "data": {
      "text/plain": "True     687\nFalse    204\nName: Cabin, dtype: int64"
     },
     "execution_count": 45,
     "metadata": {},
     "output_type": "execute_result"
    }
   ]
  },
  {
   "cell_type": "markdown",
   "source": [
    "We need to we must impute the missing<br>\n",
    "https://titanic.fandom.com/wiki/First_Class_Staterooms<br>\n",
    "First Class - Decks A/B/C<br>\n",
    "Most of them on B(101)/C(134) - highest on Boatdeck(6) - A(36) lowest on D(49) and F(4)<br>\n",
    "Sum = 330 First Class rooms<br>\n",
    "price from £400 to £870<br>\n",
    "<br>\n",
    "https://titanic.fandom.com/wiki/Second_Class_Cabins<br>\n",
    "Second Class - Decks D(39)/E(65)/(F64)<br>\n",
    "Sum = 168 Rooms<br>\n",
    "<br><br> \n",
    "https://titanic.fandom.com/wiki/Third_Class_cabins<br>\n",
    "Third Class - Decks D/E/F/G<br>\n",
    "It is true that the lower the deck the higher the probability of drownin\n",
    "Imputation is vague because the rate of missing values is high. We use this \n",
    "imputation for testing purposes to see if we can increase the accuracy.\n",
    "After Testing various imputations. I decided to drop this feature "
   ],
   "metadata": {
    "pycharm": {
     "name": "#%% md\n"
    }
   }
  },
  {
   "cell_type": "code",
   "source": [
    "# save df without 'Cabin' Feature\n",
    "# dropping the feature for a direct comparison\n",
    "titan_df_wo_cabin = titan_df.copy()\n",
    "del titan_df_wo_cabin['Cabin']\n",
    "del titan_df_wo_cabin['PassengerId']"
   ],
   "metadata": {
    "execution": {
     "iopub.status.busy": "2022-08-10T20:10:30.613330Z",
     "iopub.execute_input": "2022-08-10T20:10:30.614967Z",
     "iopub.status.idle": "2022-08-10T20:10:30.624042Z",
     "shell.execute_reply.started": "2022-08-10T20:10:30.614905Z",
     "shell.execute_reply": "2022-08-10T20:10:30.622652Z"
    },
    "trusted": true,
    "pycharm": {
     "name": "#%%\n"
    }
   },
   "execution_count": 46,
   "outputs": []
  },
  {
   "cell_type": "markdown",
   "source": [
    "### Data Visualization & Preparation"
   ],
   "metadata": {
    "pycharm": {
     "name": "#%% md\n"
    }
   }
  },
  {
   "cell_type": "code",
   "source": [
    "# OneHot Encoding to transform the categorial features\n",
    "oh_enc = OneHotEncoder(handle_unknown='ignore')"
   ],
   "metadata": {
    "execution": {
     "iopub.status.busy": "2022-08-10T20:10:30.820519Z",
     "iopub.execute_input": "2022-08-10T20:10:30.821613Z",
     "iopub.status.idle": "2022-08-10T20:10:30.828266Z",
     "shell.execute_reply.started": "2022-08-10T20:10:30.821533Z",
     "shell.execute_reply": "2022-08-10T20:10:30.827095Z"
    },
    "trusted": true,
    "pycharm": {
     "name": "#%%\n"
    }
   },
   "execution_count": 47,
   "outputs": []
  },
  {
   "cell_type": "code",
   "source": [
    "# titan_df_wo_cabin - 'Embarked'\n",
    "transformer_wo_cabin = make_column_transformer(\n",
    "    (oh_enc, ['Embarked']),\n",
    "    remainder='passthrough')\n",
    "\n",
    "transformed_wo_cabin = transformer_wo_cabin.fit_transform(titan_df_wo_cabin)\n",
    "titan_df_wo_cabin = pd.DataFrame(transformed_wo_cabin, columns=transformer_wo_cabin.get_feature_names())\n",
    "titan_df_wo_cabin.columns = titan_df_wo_cabin.columns.str.replace('onehotencoder__x0', 'Embarked')"
   ],
   "metadata": {
    "execution": {
     "iopub.status.busy": "2022-08-10T20:10:31.028754Z",
     "iopub.execute_input": "2022-08-10T20:10:31.029540Z",
     "iopub.status.idle": "2022-08-10T20:10:31.045719Z",
     "shell.execute_reply.started": "2022-08-10T20:10:31.029486Z",
     "shell.execute_reply": "2022-08-10T20:10:31.044358Z"
    },
    "trusted": true,
    "pycharm": {
     "name": "#%%\n"
    }
   },
   "execution_count": 48,
   "outputs": []
  },
  {
   "cell_type": "code",
   "source": [
    "# Correlation Plots\n",
    "corr = titan_df_wo_cabin.corr()\n",
    "mask = np.triu(np.ones_like(corr, dtype=bool))\n",
    "sns.set(style=\"darkgrid\")\n",
    "f, ax = plt.subplots(figsize=(11, 9))\n",
    "cmap = sns.diverging_palette(230, 20, as_cmap=True)\n",
    "sns.heatmap(corr, mask=mask, cmap=cmap, vmax=.3, center=0,\n",
    "            square=True, linewidths=.5, cbar_kws={\"shrink\": .5})\n",
    "plt.title('titan_df_wo_cabin corr plot')"
   ],
   "metadata": {
    "execution": {
     "iopub.status.busy": "2022-08-10T20:10:31.243001Z",
     "iopub.execute_input": "2022-08-10T20:10:31.243969Z",
     "iopub.status.idle": "2022-08-10T20:10:31.703659Z",
     "shell.execute_reply.started": "2022-08-10T20:10:31.243929Z",
     "shell.execute_reply": "2022-08-10T20:10:31.702318Z"
    },
    "trusted": true,
    "pycharm": {
     "name": "#%%\n"
    }
   },
   "execution_count": 49,
   "outputs": [
    {
     "data": {
      "text/plain": "Text(0.5, 1.0, 'titan_df_wo_cabin corr plot')"
     },
     "execution_count": 49,
     "metadata": {},
     "output_type": "execute_result"
    },
    {
     "data": {
      "text/plain": "<Figure size 792x648 with 2 Axes>",
      "image/png": "[encoded data removed]"
     },
     "metadata": {},
     "output_type": "display_data"
    }
   ]
  },
  {
   "cell_type": "code",
   "source": [
    "# z-score / standard scaler\n",
    "scaled_columns = titan_df_wo_cabin.columns\n",
    "scaled_columns_clean = list(scaled_columns)\n",
    "del scaled_columns_clean[3]\n",
    "\n",
    "titan_wo_survived = titan_df_wo_cabin.copy()\n",
    "del titan_wo_survived['Survived']\n",
    "\n",
    "scaled_features = StandardScaler().fit_transform(titan_wo_survived.values)\n",
    "scaled_features_df = pd.DataFrame(scaled_features, index=titan_df_wo_cabin.index, columns=scaled_columns_clean)\n",
    "features_df_full = pd.concat([scaled_features_df, titan_df_wo_cabin['Survived'].astype(int)], axis=1)"
   ],
   "metadata": {
    "execution": {
     "iopub.status.busy": "2022-08-10T20:10:31.706919Z",
     "iopub.execute_input": "2022-08-10T20:10:31.707438Z",
     "iopub.status.idle": "2022-08-10T20:10:31.720727Z",
     "shell.execute_reply.started": "2022-08-10T20:10:31.707382Z",
     "shell.execute_reply": "2022-08-10T20:10:31.719719Z"
    },
    "trusted": true,
    "pycharm": {
     "name": "#%%\n"
    }
   },
   "execution_count": 50,
   "outputs": []
  },
  {
   "cell_type": "code",
   "source": [
    "features_df_full.describe()"
   ],
   "metadata": {
    "execution": {
     "iopub.status.busy": "2022-08-10T20:10:31.722047Z",
     "iopub.execute_input": "2022-08-10T20:10:31.723469Z",
     "iopub.status.idle": "2022-08-10T20:10:31.784267Z",
     "shell.execute_reply.started": "2022-08-10T20:10:31.723388Z",
     "shell.execute_reply": "2022-08-10T20:10:31.783304Z"
    },
    "trusted": true,
    "pycharm": {
     "name": "#%%\n"
    }
   },
   "execution_count": 51,
   "outputs": [
    {
     "data": {
      "text/plain": "         Embarked_C  Embarked_Q    Embarked_S        Pclass           Sex  \\\ncount  8.910000e+02  891.000000  8.910000e+02  8.910000e+02  8.910000e+02   \nmean  -1.993666e-17    0.000000 -8.373399e-17 -8.772133e-17 -1.156327e-16   \nstd    1.000562e+00    1.000562  1.000562e+00  1.000562e+00  1.000562e+00   \nmin   -4.820427e-01   -0.307562 -1.623803e+00 -1.566107e+00 -1.355574e+00   \n25%   -4.820427e-01   -0.307562 -1.623803e+00 -3.693648e-01 -1.355574e+00   \n50%   -4.820427e-01   -0.307562  6.158384e-01  8.273772e-01  7.376951e-01   \n75%   -4.820427e-01   -0.307562  6.158384e-01  8.273772e-01  7.376951e-01   \nmax    2.074505e+00    3.251373  6.158384e-01  8.273772e-01  7.376951e-01   \n\n                Age         SibSp         Parch          Fare  total_family  \\\ncount  8.910000e+02  8.910000e+02  8.910000e+02  8.910000e+02  8.910000e+02   \nmean   1.156327e-16  4.386066e-17  5.382900e-17 -4.585433e-17 -3.987333e-18   \nstd    1.000562e+00  1.000562e+00  1.000562e+00  1.000562e+00  1.000562e+00   \nmin   -2.149345e+00 -4.745452e-01 -4.736736e-01 -5.780959e-01 -5.609748e-01   \n25%   -5.421266e-01 -4.745452e-01 -4.736736e-01 -4.991834e-01 -5.609748e-01   \n50%   -2.442176e-01 -4.745452e-01 -4.736736e-01 -3.665701e-01 -5.609748e-01   \n75%    5.005547e-01  4.327934e-01 -4.736736e-01 -2.822968e-02  5.915988e-02   \nmax    3.777553e+00  6.784163e+00  6.974147e+00  9.674308e+00  5.640372e+00   \n\n       Ticketnumber    Survived  \ncount  8.910000e+02  891.000000  \nmean   1.993666e-18    0.383838  \nstd    1.000562e+00    0.486592  \nmin   -4.526791e-01    0.000000  \n25%   -4.308636e-01    0.000000  \n50%   -2.818772e-01    0.000000  \n75%    7.635297e-02    1.000000  \nmax    4.274435e+00    1.000000  ",
      "text/html": "<div>\n<style scoped>\n    .dataframe tbody tr th:only-of-type {\n        vertical-align: middle;\n    }\n\n    .dataframe tbody tr th {\n        vertical-align: top;\n    }\n\n    .dataframe thead th {\n        text-align: right;\n    }\n</style>\n<table border=\"1\" class=\"dataframe\">\n  <thead>\n    <tr style=\"text-align: right;\">\n      <th></th>\n      <th>Embarked_C</th>\n      <th>Embarked_Q</th>\n      <th>Embarked_S</th>\n      <th>Pclass</th>\n      <th>Sex</th>\n      <th>Age</th>\n      <th>SibSp</th>\n      <th>Parch</th>\n      <th>Fare</th>\n      <th>total_family</th>\n      <th>Ticketnumber</th>\n      <th>Survived</th>\n    </tr>\n  </thead>\n  <tbody>\n    <tr>\n      <th>count</th>\n      <td>8.910000e+02</td>\n      <td>891.000000</td>\n      <td>8.910000e+02</td>\n      <td>8.910000e+02</td>\n      <td>8.910000e+02</td>\n      <td>8.910000e+02</td>\n      <td>8.910000e+02</td>\n      <td>8.910000e+02</td>\n      <td>8.910000e+02</td>\n      <td>8.910000e+02</td>\n      <td>8.910000e+02</td>\n      <td>891.000000</td>\n    </tr>\n    <tr>\n      <th>mean</th>\n      <td>-1.993666e-17</td>\n      <td>0.000000</td>\n      <td>-8.373399e-17</td>\n      <td>-8.772133e-17</td>\n      <td>-1.156327e-16</td>\n      <td>1.156327e-16</td>\n      <td>4.386066e-17</td>\n      <td>5.382900e-17</td>\n      <td>-4.585433e-17</td>\n      <td>-3.987333e-18</td>\n      <td>1.993666e-18</td>\n      <td>0.383838</td>\n    </tr>\n    <tr>\n      <th>std</th>\n      <td>1.000562e+00</td>\n      <td>1.000562</td>\n      <td>1.000562e+00</td>\n      <td>1.000562e+00</td>\n      <td>1.000562e+00</td>\n      <td>1.000562e+00</td>\n      <td>1.000562e+00</td>\n      <td>1.000562e+00</td>\n      <td>1.000562e+00</td>\n      <td>1.000562e+00</td>\n      <td>1.000562e+00</td>\n      <td>0.486592</td>\n    </tr>\n    <tr>\n      <th>min</th>\n      <td>-4.820427e-01</td>\n      <td>-0.307562</td>\n      <td>-1.623803e+00</td>\n      <td>-1.566107e+00</td>\n      <td>-1.355574e+00</td>\n      <td>-2.149345e+00</td>\n      <td>-4.745452e-01</td>\n      <td>-4.736736e-01</td>\n      <td>-5.780959e-01</td>\n      <td>-5.609748e-01</td>\n      <td>-4.526791e-01</td>\n      <td>0.000000</td>\n    </tr>\n    <tr>\n      <th>25%</th>\n      <td>-4.820427e-01</td>\n      <td>-0.307562</td>\n      <td>-1.623803e+00</td>\n      <td>-3.693648e-01</td>\n      <td>-1.355574e+00</td>\n      <td>-5.421266e-01</td>\n      <td>-4.745452e-01</td>\n      <td>-4.736736e-01</td>\n      <td>-4.991834e-01</td>\n      <td>-5.609748e-01</td>\n      <td>-4.308636e-01</td>\n      <td>0.000000</td>\n    </tr>\n    <tr>\n      <th>50%</th>\n      <td>-4.820427e-01</td>\n      <td>-0.307562</td>\n      <td>6.158384e-01</td>\n      <td>8.273772e-01</td>\n      <td>7.376951e-01</td>\n      <td>-2.442176e-01</td>\n      <td>-4.745452e-01</td>\n      <td>-4.736736e-01</td>\n      <td>-3.665701e-01</td>\n      <td>-5.609748e-01</td>\n      <td>-2.818772e-01</td>\n      <td>0.000000</td>\n    </tr>\n    <tr>\n      <th>75%</th>\n      <td>-4.820427e-01</td>\n      <td>-0.307562</td>\n      <td>6.158384e-01</td>\n      <td>8.273772e-01</td>\n      <td>7.376951e-01</td>\n      <td>5.005547e-01</td>\n      <td>4.327934e-01</td>\n      <td>-4.736736e-01</td>\n      <td>-2.822968e-02</td>\n      <td>5.915988e-02</td>\n      <td>7.635297e-02</td>\n      <td>1.000000</td>\n    </tr>\n    <tr>\n      <th>max</th>\n      <td>2.074505e+00</td>\n      <td>3.251373</td>\n      <td>6.158384e-01</td>\n      <td>8.273772e-01</td>\n      <td>7.376951e-01</td>\n      <td>3.777553e+00</td>\n      <td>6.784163e+00</td>\n      <td>6.974147e+00</td>\n      <td>9.674308e+00</td>\n      <td>5.640372e+00</td>\n      <td>4.274435e+00</td>\n      <td>1.000000</td>\n    </tr>\n  </tbody>\n</table>\n</div>"
     },
     "execution_count": 51,
     "metadata": {},
     "output_type": "execute_result"
    }
   ]
  },
  {
   "cell_type": "markdown",
   "source": [
    "## Part 2: Train and evaluate different Models (XGBoost)\n"
   ],
   "metadata": {
    "pycharm": {
     "name": "#%% md\n"
    }
   }
  },
  {
   "cell_type": "markdown",
   "source": [
    "#### CatBoost"
   ],
   "metadata": {
    "pycharm": {
     "name": "#%% md\n"
    }
   }
  },
  {
   "cell_type": "code",
   "source": [
    "titan_df_wo_cabin_xgb = features_df_full.copy()\n",
    "X = titan_df_wo_cabin_xgb\n",
    "y = X.pop('Survived').values\n",
    "\n",
    "pool_data = Pool(X, y)"
   ],
   "metadata": {
    "execution": {
     "iopub.status.busy": "2022-08-10T20:10:32.048205Z",
     "iopub.execute_input": "2022-08-10T20:10:32.049494Z",
     "iopub.status.idle": "2022-08-10T20:10:32.059753Z",
     "shell.execute_reply.started": "2022-08-10T20:10:32.049442Z",
     "shell.execute_reply": "2022-08-10T20:10:32.058606Z"
    },
    "trusted": true,
    "pycharm": {
     "name": "#%%\n"
    }
   },
   "execution_count": 52,
   "outputs": []
  },
  {
   "cell_type": "code",
   "source": [
    "CatBoost = CatBoostClassifier()\n",
    "\n",
    "param = {\n",
    "    'iterations': [500],\n",
    "    'max_depth': [6, 8, 10, 12],\n",
    "    'learning_rate': [0.1, 0.2, 0.3, 0.4],\n",
    "    'l2_leaf_reg': [None, 1, 2],\n",
    "    'loss_function': ['Logloss'],\n",
    "    'verbose': [False],\n",
    "    'random_seed': [RAND_SEED]\n",
    "}\n",
    "\n",
    "Grid_CatBoost= GridSearchCV(estimator=CatBoost, param_grid=param, cv=5, n_jobs=-1, verbose=3)\n",
    "Grid_CatBoost.fit(X, y)"
   ],
   "metadata": {
    "execution": {
     "iopub.status.busy": "2022-08-10T20:10:32.288012Z",
     "iopub.execute_input": "2022-08-10T20:10:32.288501Z"
    },
    "trusted": true,
    "pycharm": {
     "name": "#%%\n"
    }
   },
   "execution_count": 53,
   "outputs": [
    {
     "name": "stdout",
     "output_type": "stream",
     "text": [
      "Fitting 5 folds for each of 48 candidates, totalling 240 fits\n"
     ]
    },
    {
     "ename": "KeyboardInterrupt",
     "evalue": "",
     "output_type": "error",
     "traceback": [
      "\u001B[1;31m---------------------------------------------------------------------------\u001B[0m",
      "\u001B[1;31mKeyboardInterrupt\u001B[0m                         Traceback (most recent call last)",
      "\u001B[1;32m<ipython-input-53-129b6cece87d>\u001B[0m in \u001B[0;36m<module>\u001B[1;34m\u001B[0m\n\u001B[0;32m     12\u001B[0m \u001B[1;33m\u001B[0m\u001B[0m\n\u001B[0;32m     13\u001B[0m \u001B[0mGrid_CatBoost\u001B[0m\u001B[1;33m=\u001B[0m \u001B[0mGridSearchCV\u001B[0m\u001B[1;33m(\u001B[0m\u001B[0mestimator\u001B[0m\u001B[1;33m=\u001B[0m\u001B[0mCatBoost\u001B[0m\u001B[1;33m,\u001B[0m \u001B[0mparam_grid\u001B[0m\u001B[1;33m=\u001B[0m\u001B[0mparam\u001B[0m\u001B[1;33m,\u001B[0m \u001B[0mcv\u001B[0m\u001B[1;33m=\u001B[0m\u001B[1;36m5\u001B[0m\u001B[1;33m,\u001B[0m \u001B[0mn_jobs\u001B[0m\u001B[1;33m=\u001B[0m\u001B[1;33m-\u001B[0m\u001B[1;36m1\u001B[0m\u001B[1;33m,\u001B[0m \u001B[0mverbose\u001B[0m\u001B[1;33m=\u001B[0m\u001B[1;36m3\u001B[0m\u001B[1;33m)\u001B[0m\u001B[1;33m\u001B[0m\u001B[1;33m\u001B[0m\u001B[0m\n\u001B[1;32m---> 14\u001B[1;33m \u001B[0mGrid_CatBoost\u001B[0m\u001B[1;33m.\u001B[0m\u001B[0mfit\u001B[0m\u001B[1;33m(\u001B[0m\u001B[0mX\u001B[0m\u001B[1;33m,\u001B[0m \u001B[0my\u001B[0m\u001B[1;33m)\u001B[0m\u001B[1;33m\u001B[0m\u001B[1;33m\u001B[0m\u001B[0m\n\u001B[0m",
      "\u001B[1;32m~\\anaconda3\\envs\\kaggle_hernes\\lib\\site-packages\\sklearn\\model_selection\\_search.py\u001B[0m in \u001B[0;36mfit\u001B[1;34m(self, X, y, groups, **fit_params)\u001B[0m\n\u001B[0;32m    889\u001B[0m                 \u001B[1;32mreturn\u001B[0m \u001B[0mresults\u001B[0m\u001B[1;33m\u001B[0m\u001B[1;33m\u001B[0m\u001B[0m\n\u001B[0;32m    890\u001B[0m \u001B[1;33m\u001B[0m\u001B[0m\n\u001B[1;32m--> 891\u001B[1;33m             \u001B[0mself\u001B[0m\u001B[1;33m.\u001B[0m\u001B[0m_run_search\u001B[0m\u001B[1;33m(\u001B[0m\u001B[0mevaluate_candidates\u001B[0m\u001B[1;33m)\u001B[0m\u001B[1;33m\u001B[0m\u001B[1;33m\u001B[0m\u001B[0m\n\u001B[0m\u001B[0;32m    892\u001B[0m \u001B[1;33m\u001B[0m\u001B[0m\n\u001B[0;32m    893\u001B[0m             \u001B[1;31m# multimetric is determined here because in the case of a callable\u001B[0m\u001B[1;33m\u001B[0m\u001B[1;33m\u001B[0m\u001B[0m\n",
      "\u001B[1;32m~\\anaconda3\\envs\\kaggle_hernes\\lib\\site-packages\\sklearn\\model_selection\\_search.py\u001B[0m in \u001B[0;36m_run_search\u001B[1;34m(self, evaluate_candidates)\u001B[0m\n\u001B[0;32m   1390\u001B[0m     \u001B[1;32mdef\u001B[0m \u001B[0m_run_search\u001B[0m\u001B[1;33m(\u001B[0m\u001B[0mself\u001B[0m\u001B[1;33m,\u001B[0m \u001B[0mevaluate_candidates\u001B[0m\u001B[1;33m)\u001B[0m\u001B[1;33m:\u001B[0m\u001B[1;33m\u001B[0m\u001B[1;33m\u001B[0m\u001B[0m\n\u001B[0;32m   1391\u001B[0m         \u001B[1;34m\"\"\"Search all candidates in param_grid\"\"\"\u001B[0m\u001B[1;33m\u001B[0m\u001B[1;33m\u001B[0m\u001B[0m\n\u001B[1;32m-> 1392\u001B[1;33m         \u001B[0mevaluate_candidates\u001B[0m\u001B[1;33m(\u001B[0m\u001B[0mParameterGrid\u001B[0m\u001B[1;33m(\u001B[0m\u001B[0mself\u001B[0m\u001B[1;33m.\u001B[0m\u001B[0mparam_grid\u001B[0m\u001B[1;33m)\u001B[0m\u001B[1;33m)\u001B[0m\u001B[1;33m\u001B[0m\u001B[1;33m\u001B[0m\u001B[0m\n\u001B[0m\u001B[0;32m   1393\u001B[0m \u001B[1;33m\u001B[0m\u001B[0m\n\u001B[0;32m   1394\u001B[0m \u001B[1;33m\u001B[0m\u001B[0m\n",
      "\u001B[1;32m~\\anaconda3\\envs\\kaggle_hernes\\lib\\site-packages\\sklearn\\model_selection\\_search.py\u001B[0m in \u001B[0;36mevaluate_candidates\u001B[1;34m(candidate_params, cv, more_results)\u001B[0m\n\u001B[0;32m    836\u001B[0m                     )\n\u001B[0;32m    837\u001B[0m \u001B[1;33m\u001B[0m\u001B[0m\n\u001B[1;32m--> 838\u001B[1;33m                 out = parallel(\n\u001B[0m\u001B[0;32m    839\u001B[0m                     delayed(_fit_and_score)(\n\u001B[0;32m    840\u001B[0m                         \u001B[0mclone\u001B[0m\u001B[1;33m(\u001B[0m\u001B[0mbase_estimator\u001B[0m\u001B[1;33m)\u001B[0m\u001B[1;33m,\u001B[0m\u001B[1;33m\u001B[0m\u001B[1;33m\u001B[0m\u001B[0m\n",
      "\u001B[1;32m~\\anaconda3\\envs\\kaggle_hernes\\lib\\site-packages\\joblib\\parallel.py\u001B[0m in \u001B[0;36m__call__\u001B[1;34m(self, iterable)\u001B[0m\n\u001B[0;32m   1054\u001B[0m \u001B[1;33m\u001B[0m\u001B[0m\n\u001B[0;32m   1055\u001B[0m             \u001B[1;32mwith\u001B[0m \u001B[0mself\u001B[0m\u001B[1;33m.\u001B[0m\u001B[0m_backend\u001B[0m\u001B[1;33m.\u001B[0m\u001B[0mretrieval_context\u001B[0m\u001B[1;33m(\u001B[0m\u001B[1;33m)\u001B[0m\u001B[1;33m:\u001B[0m\u001B[1;33m\u001B[0m\u001B[1;33m\u001B[0m\u001B[0m\n\u001B[1;32m-> 1056\u001B[1;33m                 \u001B[0mself\u001B[0m\u001B[1;33m.\u001B[0m\u001B[0mretrieve\u001B[0m\u001B[1;33m(\u001B[0m\u001B[1;33m)\u001B[0m\u001B[1;33m\u001B[0m\u001B[1;33m\u001B[0m\u001B[0m\n\u001B[0m\u001B[0;32m   1057\u001B[0m             \u001B[1;31m# Make sure that we get a last message telling us we are done\u001B[0m\u001B[1;33m\u001B[0m\u001B[1;33m\u001B[0m\u001B[0m\n\u001B[0;32m   1058\u001B[0m             \u001B[0melapsed_time\u001B[0m \u001B[1;33m=\u001B[0m \u001B[0mtime\u001B[0m\u001B[1;33m.\u001B[0m\u001B[0mtime\u001B[0m\u001B[1;33m(\u001B[0m\u001B[1;33m)\u001B[0m \u001B[1;33m-\u001B[0m \u001B[0mself\u001B[0m\u001B[1;33m.\u001B[0m\u001B[0m_start_time\u001B[0m\u001B[1;33m\u001B[0m\u001B[1;33m\u001B[0m\u001B[0m\n",
      "\u001B[1;32m~\\anaconda3\\envs\\kaggle_hernes\\lib\\site-packages\\joblib\\parallel.py\u001B[0m in \u001B[0;36mretrieve\u001B[1;34m(self)\u001B[0m\n\u001B[0;32m    933\u001B[0m             \u001B[1;32mtry\u001B[0m\u001B[1;33m:\u001B[0m\u001B[1;33m\u001B[0m\u001B[1;33m\u001B[0m\u001B[0m\n\u001B[0;32m    934\u001B[0m                 \u001B[1;32mif\u001B[0m \u001B[0mgetattr\u001B[0m\u001B[1;33m(\u001B[0m\u001B[0mself\u001B[0m\u001B[1;33m.\u001B[0m\u001B[0m_backend\u001B[0m\u001B[1;33m,\u001B[0m \u001B[1;34m'supports_timeout'\u001B[0m\u001B[1;33m,\u001B[0m \u001B[1;32mFalse\u001B[0m\u001B[1;33m)\u001B[0m\u001B[1;33m:\u001B[0m\u001B[1;33m\u001B[0m\u001B[1;33m\u001B[0m\u001B[0m\n\u001B[1;32m--> 935\u001B[1;33m                     \u001B[0mself\u001B[0m\u001B[1;33m.\u001B[0m\u001B[0m_output\u001B[0m\u001B[1;33m.\u001B[0m\u001B[0mextend\u001B[0m\u001B[1;33m(\u001B[0m\u001B[0mjob\u001B[0m\u001B[1;33m.\u001B[0m\u001B[0mget\u001B[0m\u001B[1;33m(\u001B[0m\u001B[0mtimeout\u001B[0m\u001B[1;33m=\u001B[0m\u001B[0mself\u001B[0m\u001B[1;33m.\u001B[0m\u001B[0mtimeout\u001B[0m\u001B[1;33m)\u001B[0m\u001B[1;33m)\u001B[0m\u001B[1;33m\u001B[0m\u001B[1;33m\u001B[0m\u001B[0m\n\u001B[0m\u001B[0;32m    936\u001B[0m                 \u001B[1;32melse\u001B[0m\u001B[1;33m:\u001B[0m\u001B[1;33m\u001B[0m\u001B[1;33m\u001B[0m\u001B[0m\n\u001B[0;32m    937\u001B[0m                     \u001B[0mself\u001B[0m\u001B[1;33m.\u001B[0m\u001B[0m_output\u001B[0m\u001B[1;33m.\u001B[0m\u001B[0mextend\u001B[0m\u001B[1;33m(\u001B[0m\u001B[0mjob\u001B[0m\u001B[1;33m.\u001B[0m\u001B[0mget\u001B[0m\u001B[1;33m(\u001B[0m\u001B[1;33m)\u001B[0m\u001B[1;33m)\u001B[0m\u001B[1;33m\u001B[0m\u001B[1;33m\u001B[0m\u001B[0m\n",
      "\u001B[1;32m~\\anaconda3\\envs\\kaggle_hernes\\lib\\site-packages\\joblib\\_parallel_backends.py\u001B[0m in \u001B[0;36mwrap_future_result\u001B[1;34m(future, timeout)\u001B[0m\n\u001B[0;32m    540\u001B[0m         AsyncResults.get from multiprocessing.\"\"\"\n\u001B[0;32m    541\u001B[0m         \u001B[1;32mtry\u001B[0m\u001B[1;33m:\u001B[0m\u001B[1;33m\u001B[0m\u001B[1;33m\u001B[0m\u001B[0m\n\u001B[1;32m--> 542\u001B[1;33m             \u001B[1;32mreturn\u001B[0m \u001B[0mfuture\u001B[0m\u001B[1;33m.\u001B[0m\u001B[0mresult\u001B[0m\u001B[1;33m(\u001B[0m\u001B[0mtimeout\u001B[0m\u001B[1;33m=\u001B[0m\u001B[0mtimeout\u001B[0m\u001B[1;33m)\u001B[0m\u001B[1;33m\u001B[0m\u001B[1;33m\u001B[0m\u001B[0m\n\u001B[0m\u001B[0;32m    543\u001B[0m         \u001B[1;32mexcept\u001B[0m \u001B[0mCfTimeoutError\u001B[0m \u001B[1;32mas\u001B[0m \u001B[0me\u001B[0m\u001B[1;33m:\u001B[0m\u001B[1;33m\u001B[0m\u001B[1;33m\u001B[0m\u001B[0m\n\u001B[0;32m    544\u001B[0m             \u001B[1;32mraise\u001B[0m \u001B[0mTimeoutError\u001B[0m \u001B[1;32mfrom\u001B[0m \u001B[0me\u001B[0m\u001B[1;33m\u001B[0m\u001B[1;33m\u001B[0m\u001B[0m\n",
      "\u001B[1;32m~\\anaconda3\\envs\\kaggle_hernes\\lib\\concurrent\\futures\\_base.py\u001B[0m in \u001B[0;36mresult\u001B[1;34m(self, timeout)\u001B[0m\n\u001B[0;32m    439\u001B[0m                     \u001B[1;32mreturn\u001B[0m \u001B[0mself\u001B[0m\u001B[1;33m.\u001B[0m\u001B[0m__get_result\u001B[0m\u001B[1;33m(\u001B[0m\u001B[1;33m)\u001B[0m\u001B[1;33m\u001B[0m\u001B[1;33m\u001B[0m\u001B[0m\n\u001B[0;32m    440\u001B[0m \u001B[1;33m\u001B[0m\u001B[0m\n\u001B[1;32m--> 441\u001B[1;33m                 \u001B[0mself\u001B[0m\u001B[1;33m.\u001B[0m\u001B[0m_condition\u001B[0m\u001B[1;33m.\u001B[0m\u001B[0mwait\u001B[0m\u001B[1;33m(\u001B[0m\u001B[0mtimeout\u001B[0m\u001B[1;33m)\u001B[0m\u001B[1;33m\u001B[0m\u001B[1;33m\u001B[0m\u001B[0m\n\u001B[0m\u001B[0;32m    442\u001B[0m \u001B[1;33m\u001B[0m\u001B[0m\n\u001B[0;32m    443\u001B[0m                 \u001B[1;32mif\u001B[0m \u001B[0mself\u001B[0m\u001B[1;33m.\u001B[0m\u001B[0m_state\u001B[0m \u001B[1;32min\u001B[0m \u001B[1;33m[\u001B[0m\u001B[0mCANCELLED\u001B[0m\u001B[1;33m,\u001B[0m \u001B[0mCANCELLED_AND_NOTIFIED\u001B[0m\u001B[1;33m]\u001B[0m\u001B[1;33m:\u001B[0m\u001B[1;33m\u001B[0m\u001B[1;33m\u001B[0m\u001B[0m\n",
      "\u001B[1;32m~\\anaconda3\\envs\\kaggle_hernes\\lib\\threading.py\u001B[0m in \u001B[0;36mwait\u001B[1;34m(self, timeout)\u001B[0m\n\u001B[0;32m    310\u001B[0m         \u001B[1;32mtry\u001B[0m\u001B[1;33m:\u001B[0m    \u001B[1;31m# restore state no matter what (e.g., KeyboardInterrupt)\u001B[0m\u001B[1;33m\u001B[0m\u001B[1;33m\u001B[0m\u001B[0m\n\u001B[0;32m    311\u001B[0m             \u001B[1;32mif\u001B[0m \u001B[0mtimeout\u001B[0m \u001B[1;32mis\u001B[0m \u001B[1;32mNone\u001B[0m\u001B[1;33m:\u001B[0m\u001B[1;33m\u001B[0m\u001B[1;33m\u001B[0m\u001B[0m\n\u001B[1;32m--> 312\u001B[1;33m                 \u001B[0mwaiter\u001B[0m\u001B[1;33m.\u001B[0m\u001B[0macquire\u001B[0m\u001B[1;33m(\u001B[0m\u001B[1;33m)\u001B[0m\u001B[1;33m\u001B[0m\u001B[1;33m\u001B[0m\u001B[0m\n\u001B[0m\u001B[0;32m    313\u001B[0m                 \u001B[0mgotit\u001B[0m \u001B[1;33m=\u001B[0m \u001B[1;32mTrue\u001B[0m\u001B[1;33m\u001B[0m\u001B[1;33m\u001B[0m\u001B[0m\n\u001B[0;32m    314\u001B[0m             \u001B[1;32melse\u001B[0m\u001B[1;33m:\u001B[0m\u001B[1;33m\u001B[0m\u001B[1;33m\u001B[0m\u001B[0m\n",
      "\u001B[1;31mKeyboardInterrupt\u001B[0m: "
     ]
    }
   ]
  },
  {
   "cell_type": "code",
   "source": [
    "Grid_CatBoost.best_score_"
   ],
   "metadata": {
    "trusted": true,
    "pycharm": {
     "name": "#%%\n"
    }
   },
   "execution_count": null,
   "outputs": []
  },
  {
   "cell_type": "code",
   "source": [
    "Grid_CatBoost.best_params_"
   ],
   "metadata": {
    "trusted": true,
    "pycharm": {
     "name": "#%%\n"
    }
   },
   "execution_count": null,
   "outputs": []
  },
  {
   "cell_type": "code",
   "source": [
    "model = CatBoostClassifier(iterations=500,\n",
    "                           max_depth=8,\n",
    "                           learning_rate=0.5,\n",
    "                           l2_leaf_reg=1,\n",
    "                           loss_function='Logloss',\n",
    "                           verbose=True,\n",
    "                           random_seed=RAND_SEED)\n",
    "\n",
    "model.fit(X, y)"
   ],
   "metadata": {
    "trusted": true,
    "pycharm": {
     "name": "#%%\n"
    }
   },
   "execution_count": null,
   "outputs": []
  },
  {
   "cell_type": "code",
   "source": [
    "model.score(pool_data)"
   ],
   "metadata": {
    "trusted": true,
    "pycharm": {
     "name": "#%%\n"
    }
   },
   "execution_count": null,
   "outputs": []
  },
  {
   "cell_type": "markdown",
   "source": [
    "## Part 3: Forecasting the Testfile"
   ],
   "metadata": {
    "pycharm": {
     "name": "#%% md\n"
    }
   }
  },
  {
   "cell_type": "code",
   "source": [
    "# load the testfile\n",
    "titan_df_valid = pd.read_csv('../input/titanic/test.csv')\n",
    "passengerid = titan_df_valid.copy()['PassengerId']"
   ],
   "metadata": {
    "trusted": true,
    "pycharm": {
     "name": "#%%\n"
    }
   },
   "execution_count": null,
   "outputs": []
  },
  {
   "cell_type": "markdown",
   "source": [
    "### prepare the text.csv for the forcasting"
   ],
   "metadata": {
    "pycharm": {
     "name": "#%% md\n"
    }
   }
  },
  {
   "cell_type": "code",
   "source": [
    "# creating a 'total_family' feature\n",
    "titan_df_valid['total_family'] = titan_df_valid['SibSp'] + titan_df_valid['Parch']"
   ],
   "metadata": {
    "trusted": true,
    "pycharm": {
     "name": "#%%\n"
    }
   },
   "execution_count": null,
   "outputs": []
  },
  {
   "cell_type": "code",
   "source": [
    "# transform 'Sex' feature\n",
    "titan_df_valid['Sex'] = titan_df_valid['Sex'].map({'male': 1, 'female': 0})"
   ],
   "metadata": {
    "trusted": true,
    "pycharm": {
     "name": "#%%\n"
    }
   },
   "execution_count": null,
   "outputs": []
  },
  {
   "cell_type": "code",
   "source": [
    "# clean up 'ticket' - feature\n",
    "# 'Ticket' Feature\n",
    "ticket_split_valid = titan_df_valid[\"Ticket\"].str.rsplit(\" \", n=1, expand=True)\n",
    "ticket_split_valid.columns = 'T0 T1'.split()\n",
    "ticket_split_valid = ticket_split_valid.fillna(np.nan)\n",
    "ticket_split_valid['T1'] = ticket_split_valid['T1'].fillna(ticket_split_valid['T0'])\n",
    "ticket_split_valid['T1'] = ticket_split_valid['T1'].astype(int)\n",
    "del ticket_split_valid['T0']\n",
    "ticket_split_valid.columns = ['Ticketnumber']"
   ],
   "metadata": {
    "trusted": true,
    "pycharm": {
     "name": "#%%\n"
    }
   },
   "execution_count": null,
   "outputs": []
  },
  {
   "cell_type": "code",
   "source": [
    "# concat ticketnummer\n",
    "titan_df_valid = pd.concat([titan_df_valid, ticket_split_valid], axis=1)\n",
    "del titan_df_valid['Ticket']"
   ],
   "metadata": {
    "trusted": true,
    "pycharm": {
     "name": "#%%\n"
    }
   },
   "execution_count": null,
   "outputs": []
  },
  {
   "cell_type": "code",
   "source": [
    "# del columns\n",
    "del titan_df_valid['Cabin']\n",
    "del titan_df_valid['Name']\n",
    "del titan_df_valid['PassengerId']"
   ],
   "metadata": {
    "trusted": true,
    "pycharm": {
     "name": "#%%\n"
    }
   },
   "execution_count": null,
   "outputs": []
  },
  {
   "cell_type": "code",
   "source": [
    "titan_df_valid['Age'] = titan_df_valid['Age'].fillna(0)\n",
    "titan_df_valid['Fare'] = titan_df_valid['Fare'].fillna(0)"
   ],
   "metadata": {
    "trusted": true,
    "pycharm": {
     "name": "#%%\n"
    }
   },
   "execution_count": null,
   "outputs": []
  },
  {
   "cell_type": "code",
   "source": [
    "# 'Embarked' OneHot Encoding\n",
    "transformer_df_valid = make_column_transformer(\n",
    "    (oh_enc, ['Embarked']),\n",
    "    remainder='passthrough')\n",
    "\n",
    "transformed_df_valid = transformer_df_valid.fit_transform(titan_df_valid)\n",
    "titan_df_valid = pd.DataFrame(transformed_df_valid, columns=transformer_df_valid.get_feature_names())\n",
    "titan_df_valid.columns = titan_df_valid.columns.str.replace('onehotencoder__x0', 'Embarked')"
   ],
   "metadata": {
    "trusted": true,
    "pycharm": {
     "name": "#%%\n"
    }
   },
   "execution_count": null,
   "outputs": []
  },
  {
   "cell_type": "code",
   "source": [
    "# scaling\n",
    "scaled_features = StandardScaler().fit_transform(titan_df_valid.values)\n",
    "scaled_features_df = pd.DataFrame(scaled_features, index=titan_df_valid.index, columns=titan_df_valid.columns)"
   ],
   "metadata": {
    "trusted": true,
    "pycharm": {
     "name": "#%%\n"
    }
   },
   "execution_count": null,
   "outputs": []
  },
  {
   "cell_type": "code",
   "source": [
    "# since RF provided the best results, the forecasts are made on this model\n",
    "predictions = model.predict(scaled_features_df)\n",
    "\n",
    "predictions_titanic = pd.DataFrame({'PassengerId': passengerid, 'Survived': predictions})\n",
    "predictions_titanic = predictions_titanic.astype(int)\n",
    "predictions_titanic.to_csv('./submission.csv', index=False)\n",
    "print(predictions_titanic)"
   ],
   "metadata": {
    "trusted": true,
    "pycharm": {
     "name": "#%%\n"
    }
   },
   "execution_count": null,
   "outputs": []
  }
 ]
}